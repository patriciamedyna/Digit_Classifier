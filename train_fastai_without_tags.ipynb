{
  "nbformat": 4,
  "nbformat_minor": 0,
  "metadata": {
    "kernelspec": {
      "display_name": "Python 3",
      "language": "python",
      "name": "python3"
    },
    "language_info": {
      "codemirror_mode": {
        "name": "ipython",
        "version": 3
      },
      "file_extension": ".py",
      "mimetype": "text/x-python",
      "name": "python",
      "nbconvert_exporter": "python",
      "pygments_lexer": "ipython3",
      "version": "3.6.8"
    },
    "colab": {
      "name": "train_fastai_without_tags.ipynb",
      "provenance": [],
      "machine_shape": "hm",
      "include_colab_link": true
    },
    "accelerator": "GPU"
  },
  "cells": [
    {
      "cell_type": "markdown",
      "metadata": {
        "id": "view-in-github",
        "colab_type": "text"
      },
      "source": [
        "<a href=\"https://colab.research.google.com/github/patriciamedyna/Digit_Classifier/blob/master/train_fastai_without_tags.ipynb\" target=\"_parent\"><img src=\"https://colab.research.google.com/assets/colab-badge.svg\" alt=\"Open In Colab\"/></a>"
      ]
    },
    {
      "cell_type": "code",
      "metadata": {
        "id": "HjCWwpBkulwK"
      },
      "source": [
        "#hide\n",
        "!pip install -Uqq fastbook\n",
        "import fastbook\n",
        "fastbook.setup_book()"
      ],
      "execution_count": 1,
      "outputs": []
    },
    {
      "cell_type": "code",
      "metadata": {
        "id": "pW9qbuqtfL4W"
      },
      "source": [
        "%load_ext autoreload\n",
        "%autoreload 2\n",
        "%matplotlib inline"
      ],
      "execution_count": 2,
      "outputs": []
    },
    {
      "cell_type": "code",
      "metadata": {
        "id": "WJiWDunOfL4Z"
      },
      "source": [
        "import pandas as pd\n",
        "import pickle\n",
        "\n",
        "import matplotlib.cm as cm\n",
        "\n",
        "from fastai import *\n",
        "from fastai.text import *\n",
        "from IPython.display import display,HTML\n",
        "\n",
        "\n",
        "from pathlib import Path\n",
        "\n",
        "from sklearn.feature_extraction.text import CountVectorizer, TfidfVectorizer\n",
        "from sklearn.pipeline import Pipeline\n",
        "from sklearn.svm import LinearSVC\n",
        "from sklearn.naive_bayes import MultinomialNB\n",
        "from sklearn.model_selection import RandomizedSearchCV\n",
        "from sklearn.metrics import confusion_matrix, classification_report, hamming_loss, zero_one_loss, accuracy_score\n",
        "from sklearn.model_selection import train_test_split"
      ],
      "execution_count": 3,
      "outputs": []
    },
    {
      "cell_type": "code",
      "metadata": {
        "id": "NG-7COZzfL4a"
      },
      "source": [
        "seed = 42\n",
        "\n",
        "# python RNG\n",
        "import random\n",
        "random.seed(seed)\n",
        "\n",
        "# pytorch RNGs\n",
        "import torch\n",
        "torch.manual_seed(seed)\n",
        "torch.backends.cudnn.deterministic = True\n",
        "if torch.cuda.is_available(): torch.cuda.manual_seed_all(seed)\n",
        "\n",
        "# numpy RNG\n",
        "import numpy as np\n",
        "np.random.seed(seed)"
      ],
      "execution_count": 4,
      "outputs": []
    },
    {
      "cell_type": "code",
      "metadata": {
        "id": "BvaWcEkSfL4c"
      },
      "source": [
        "bs=64"
      ],
      "execution_count": 5,
      "outputs": []
    },
    {
      "cell_type": "markdown",
      "metadata": {
        "id": "v4PNGFBjfL4c"
      },
      "source": [
        "## Loading Data"
      ]
    },
    {
      "cell_type": "code",
      "metadata": {
        "id": "OHZPcnN0fL4e"
      },
      "source": [
        "path = '/content/gdrive/MyDrive/Colab Notebooks/Tobacco_LSTM/layout/'"
      ],
      "execution_count": 6,
      "outputs": []
    },
    {
      "cell_type": "code",
      "metadata": {
        "id": "eCTyXIQJfL4e"
      },
      "source": [
        "df = pd.read_csv(path + 'df_train.csv', delimiter=',', error_bad_lines=False)"
      ],
      "execution_count": 7,
      "outputs": []
    },
    {
      "cell_type": "code",
      "metadata": {
        "scrolled": true,
        "id": "sqmInTKpfL4f",
        "colab": {
          "base_uri": "https://localhost:8080/",
          "height": 840
        },
        "outputId": "e9dd68f6-d8b1-48c4-c051-77e992cc7607"
      },
      "source": [
        "df"
      ],
      "execution_count": 8,
      "outputs": [
        {
          "output_type": "execute_result",
          "data": {
            "text/html": [
              "<div>\n",
              "<style scoped>\n",
              "    .dataframe tbody tr th:only-of-type {\n",
              "        vertical-align: middle;\n",
              "    }\n",
              "\n",
              "    .dataframe tbody tr th {\n",
              "        vertical-align: top;\n",
              "    }\n",
              "\n",
              "    .dataframe thead th {\n",
              "        text-align: right;\n",
              "    }\n",
              "</style>\n",
              "<table border=\"1\" class=\"dataframe\">\n",
              "  <thead>\n",
              "    <tr style=\"text-align: right;\">\n",
              "      <th></th>\n",
              "      <th>class</th>\n",
              "      <th>text</th>\n",
              "      <th>is_valid</th>\n",
              "    </tr>\n",
              "  </thead>\n",
              "  <tbody>\n",
              "    <tr>\n",
              "      <th>0</th>\n",
              "      <td>FirstPage</td>\n",
              "      <td>Dr. M.A. Manzelli, PHILIP MORRIS INC., Research Center, P.O. Box 3 D Richmond, Va. 23206 U.S.A. Dear Art, Please find enclosed a proposed program for your visit in Europe. As you will see, this program contains two major points:  a)    A two-days meeting in Neuchätel with all people in Europe involved in infestation control (proposed program included).  b)    Visit of all PM Europe production centers with the purpose of:        - training people in Charge of the insect indenti-fication        - inspection of the sanitary conditions One of our main problems is the insect Identification and ...</td>\n",
              "      <td>False</td>\n",
              "    </tr>\n",
              "    <tr>\n",
              "      <th>1</th>\n",
              "      <td>NextPage</td>\n",
              "      <td>- 2 - Please let me krow if you have any changes for the proposed program. Looking forward to seeing you again, cc:    Messrs.  B.  Kuhn                 E. Stoop Encl.: mentioned 1000035625</td>\n",
              "      <td>False</td>\n",
              "    </tr>\n",
              "    <tr>\n",
              "      <th>2</th>\n",
              "      <td>FirstPage</td>\n",
              "      <td>I NOIJ-04-97    13 = 25 FROM = I D : PAGE 10/17 Wachtell, Lipton, Rosen &amp; Katz MARTIN L1PTON HERBERT M. WaCHYCLL THEODORE GEWSRTZ »ERNA*» W, NUSSBAUM RICHARD O- HATCHER DOUGLAS Sr LieBKAfSKV STEVEN M. SAR NA CMARt.CS T. MEPCRR'GK CHAIN J. FOPTCANG pBTRR C. 1AMCLLDS MICHAEL w. SCHWÄRT* Al.LAR A- MARTIN BARRV A. BRrCR IAWREHCE □. PEDQrWITZ ROBERT 0. MAZUR PAUL VIZGARRÖMSCK JR. PCTCR G- HCIM hAROlD s. «OViKOFF DAVID M. EINHORN KENNET« B. FQRREST METER C. KOPLOW THEODORE M- MIRVIS EDWARD D. MERL1HT RICHARD D. FEINTUCH DANIEL A. NEPP ERIC M. ROTR WAHREN R. STERN ANDREW R. BROWN ST EIN MICHAEL H...</td>\n",
              "      <td>False</td>\n",
              "    </tr>\n",
              "    <tr>\n",
              "      <th>3</th>\n",
              "      <td>FirstPage</td>\n",
              "      <td>i PHILIP .MORRIS         INCORPORATED 120 PARK AVENUE, N EW YORK. N. Y. 10017 John T.-Landhy SENIOR VICC PRESIDENT                                                         _ ,                    r     . n n - . oirector of Marketing                                                         February 15, 19 83 Dear Ms. Ober: Your letter of February 3 was received by this Office yesterday. We attempted to reach you by telephone iinmediately but were unable to find a listed number in New Haven. I had hoped to arrange an appointment for one of our executives to discuss with you and your concerned ...</td>\n",
              "      <td>False</td>\n",
              "    </tr>\n",
              "    <tr>\n",
              "      <th>4</th>\n",
              "      <td>NextPage</td>\n",
              "      <td>In the meantime, I hope you and your friends are continuing to enjoy your Marlboro Lights ciga-rettes. We don't think you can find a better\" cigarette on the market. ■Thank you. Ms. Angela Ober 221 Farnham Avenue New Haven, Connecticut 06515</td>\n",
              "      <td>False</td>\n",
              "    </tr>\n",
              "    <tr>\n",
              "      <th>...</th>\n",
              "      <td>...</td>\n",
              "      <td>...</td>\n",
              "      <td>...</td>\n",
              "    </tr>\n",
              "    <tr>\n",
              "      <th>1026</th>\n",
              "      <td>NextPage</td>\n",
              "      <td>«AR 18 »Sg 14t99 FROM B/W LAU DEPT PAGE.Q03 P*fl® t Maroh 18, 1992 Letter fco K. fii      yeeterday 1» which American would represent that it does not m)w any itlai of the wcxt STRIKs «ad fall mall producta in the United States, inoiuding tu® U.S. duty free narbet# fot re-oacpott to »ttd resale in any country where Brom * wlllieason# or a mamber of the b.a.t. Group of 0Oa&amp;anies, has registered theso tradomarks# and that any sudü aale by any parson woUld be oonaidered an infringement of Brown &amp; Williamson*® tredemark rights.                                                            4 3* Pr...</td>\n",
              "      <td>False</td>\n",
              "    </tr>\n",
              "    <tr>\n",
              "      <th>1027</th>\n",
              "      <td>FirstPage</td>\n",
              "      <td>MOV 2 11994 Si iook.J Iakdyü. Bacon                            November 18,  1994 FEDERAL EXPRESS TO:   ETS/IAQ  Current   Developments             Report    Distribution            Enclosed you will find a copy of the most recent issue of the ETS/XACl Current Developments Report.            If you have questions or information rega.rd.ing items contained in this Report, please feel free to contact either of us at (816)  4*74-6550. Sincerely MWC : KAM : lew Enclosure cc:         Report:     Team 88325694</td>\n",
              "      <td>False</td>\n",
              "    </tr>\n",
              "    <tr>\n",
              "      <th>1028</th>\n",
              "      <td>FirstPage</td>\n",
              "      <td>THE TOBACCO INSTITUTE, inc. ■1776 K STREET, NORTHWEST! WASHINGTON, D.C. 2000b i 202.'296-8434  HORACE R. KORNEGAY  President May 13, 1975 Mr. Colin Stokes Chairman of the Board of Directors R. J. Reynolds Industries, Inc. 401 North Main Street Winston-Salem, North Carolina 27102 Dear Colin: The terms on which your and other Companies agreed to participate in the establishment and Operation of the Tobacco Institute Testing Laboratory (T.I.T.L.) were set förth in the Institute letter of November 1, 1966, which was accepted by each participating Company. Based on recent discussions which I ha...</td>\n",
              "      <td>False</td>\n",
              "    </tr>\n",
              "    <tr>\n",
              "      <th>1029</th>\n",
              "      <td>NextPage</td>\n",
              "      <td>two billion units. Each Company responsible for additional expenses shall be assessed for the per-centage of such additional expenses as is determined by using that Company's total annual sales of USA tax-paid cigarettes as the numerator and the total annual sales of USA tax-paid cigarettes of all Companies responsible for additional expenses as the denominator. In determining the allocation for additional expenses, the total sales of USA tax-paid cigarettes shall be determined by using, as sales figures, the estimated domestic cigarette consumption by Company based on the latest ann...</td>\n",
              "      <td>False</td>\n",
              "    </tr>\n",
              "    <tr>\n",
              "      <th>1030</th>\n",
              "      <td>NextPage</td>\n",
              "      <td>College of Physicians &amp; Surgeons of Columbia University | New York, N. Y. 10032 DEPARTMENT OF M EDI CIN E                                                 630 West 168th Street                                                                        September 7S 1983                     Dr. Vincent F. Lisanti Council for Tobacco Research 110 East 59th Street New York, NY 10022                    Dear Dr. Lisanti,                                             . We request the transfer of the uncommitted balance of $2026 for fiscal 1982 to the 1983 budget - equipment category. This sum will be us...</td>\n",
              "      <td>False</td>\n",
              "    </tr>\n",
              "  </tbody>\n",
              "</table>\n",
              "<p>1031 rows × 3 columns</p>\n",
              "</div>"
            ],
            "text/plain": [
              "          class  \\\n",
              "0     FirstPage   \n",
              "1      NextPage   \n",
              "2     FirstPage   \n",
              "3     FirstPage   \n",
              "4      NextPage   \n",
              "...         ...   \n",
              "1026   NextPage   \n",
              "1027  FirstPage   \n",
              "1028  FirstPage   \n",
              "1029   NextPage   \n",
              "1030   NextPage   \n",
              "\n",
              "                                                                                                                                                                                                                                                                                                                                                                                                                                                                                                                                                                                                                         text  \\\n",
              "0     Dr. M.A. Manzelli, PHILIP MORRIS INC., Research Center, P.O. Box 3 D Richmond, Va. 23206 U.S.A. Dear Art, Please find enclosed a proposed program for your visit in Europe. As you will see, this program contains two major points:  a)    A two-days meeting in Neuchätel with all people in Europe involved in infestation control (proposed program included).  b)    Visit of all PM Europe production centers with the purpose of:        - training people in Charge of the insect indenti-fication        - inspection of the sanitary conditions One of our main problems is the insect Identification and ...   \n",
              "1                                                                                                                                                                                                                                                                                                                                                                                                                               - 2 - Please let me krow if you have any changes for the proposed program. Looking forward to seeing you again, cc:    Messrs.  B.  Kuhn                 E. Stoop Encl.: mentioned 1000035625   \n",
              "2     I NOIJ-04-97    13 = 25 FROM = I D : PAGE 10/17 Wachtell, Lipton, Rosen & Katz MARTIN L1PTON HERBERT M. WaCHYCLL THEODORE GEWSRTZ »ERNA*» W, NUSSBAUM RICHARD O- HATCHER DOUGLAS Sr LieBKAfSKV STEVEN M. SAR NA CMARt.CS T. MEPCRR'GK CHAIN J. FOPTCANG pBTRR C. 1AMCLLDS MICHAEL w. SCHWÄRT* Al.LAR A- MARTIN BARRV A. BRrCR IAWREHCE □. PEDQrWITZ ROBERT 0. MAZUR PAUL VIZGARRÖMSCK JR. PCTCR G- HCIM hAROlD s. «OViKOFF DAVID M. EINHORN KENNET« B. FQRREST METER C. KOPLOW THEODORE M- MIRVIS EDWARD D. MERL1HT RICHARD D. FEINTUCH DANIEL A. NEPP ERIC M. ROTR WAHREN R. STERN ANDREW R. BROWN ST EIN MICHAEL H...   \n",
              "3     i PHILIP .MORRIS         INCORPORATED 120 PARK AVENUE, N EW YORK. N. Y. 10017 John T.-Landhy SENIOR VICC PRESIDENT                                                         _ ,                    r     . n n - . oirector of Marketing                                                         February 15, 19 83 Dear Ms. Ober: Your letter of February 3 was received by this Office yesterday. We attempted to reach you by telephone iinmediately but were unable to find a listed number in New Haven. I had hoped to arrange an appointment for one of our executives to discuss with you and your concerned ...   \n",
              "4                                                                                                                                                                                                                                                                                                                                                                           In the meantime, I hope you and your friends are continuing to enjoy your Marlboro Lights ciga-rettes. We don't think you can find a better\" cigarette on the market. ■Thank you. Ms. Angela Ober 221 Farnham Avenue New Haven, Connecticut 06515   \n",
              "...                                                                                                                                                                                                                                                                                                                                                                                                                                                                                                                                                                                                                       ...   \n",
              "1026  «AR 18 »Sg 14t99 FROM B/W LAU DEPT PAGE.Q03 P*fl® t Maroh 18, 1992 Letter fco K. fii      yeeterday 1» which American would represent that it does not m)w any itlai of the wcxt STRIKs «ad fall mall producta in the United States, inoiuding tu® U.S. duty free narbet# fot re-oacpott to »ttd resale in any country where Brom * wlllieason# or a mamber of the b.a.t. Group of 0Oa&anies, has registered theso tradomarks# and that any sudü aale by any parson woUld be oonaidered an infringement of Brown & Williamson*® tredemark rights.                                                            4 3* Pr...   \n",
              "1027                                                                                            MOV 2 11994 Si iook.J Iakdyü. Bacon                            November 18,  1994 FEDERAL EXPRESS TO:   ETS/IAQ  Current   Developments             Report    Distribution            Enclosed you will find a copy of the most recent issue of the ETS/XACl Current Developments Report.            If you have questions or information rega.rd.ing items contained in this Report, please feel free to contact either of us at (816)  4*74-6550. Sincerely MWC : KAM : lew Enclosure cc:         Report:     Team 88325694   \n",
              "1028  THE TOBACCO INSTITUTE, inc. ■1776 K STREET, NORTHWEST! WASHINGTON, D.C. 2000b i 202.'296-8434  HORACE R. KORNEGAY  President May 13, 1975 Mr. Colin Stokes Chairman of the Board of Directors R. J. Reynolds Industries, Inc. 401 North Main Street Winston-Salem, North Carolina 27102 Dear Colin: The terms on which your and other Companies agreed to participate in the establishment and Operation of the Tobacco Institute Testing Laboratory (T.I.T.L.) were set förth in the Institute letter of November 1, 1966, which was accepted by each participating Company. Based on recent discussions which I ha...   \n",
              "1029        two billion units. Each Company responsible for additional expenses shall be assessed for the per-centage of such additional expenses as is determined by using that Company's total annual sales of USA tax-paid cigarettes as the numerator and the total annual sales of USA tax-paid cigarettes of all Companies responsible for additional expenses as the denominator. In determining the allocation for additional expenses, the total sales of USA tax-paid cigarettes shall be determined by using, as sales figures, the estimated domestic cigarette consumption by Company based on the latest ann...   \n",
              "1030  College of Physicians & Surgeons of Columbia University | New York, N. Y. 10032 DEPARTMENT OF M EDI CIN E                                                 630 West 168th Street                                                                        September 7S 1983                     Dr. Vincent F. Lisanti Council for Tobacco Research 110 East 59th Street New York, NY 10022                    Dear Dr. Lisanti,                                             . We request the transfer of the uncommitted balance of $2026 for fiscal 1982 to the 1983 budget - equipment category. This sum will be us...   \n",
              "\n",
              "      is_valid  \n",
              "0        False  \n",
              "1        False  \n",
              "2        False  \n",
              "3        False  \n",
              "4        False  \n",
              "...        ...  \n",
              "1026     False  \n",
              "1027     False  \n",
              "1028     False  \n",
              "1029     False  \n",
              "1030     False  \n",
              "\n",
              "[1031 rows x 3 columns]"
            ]
          },
          "metadata": {},
          "execution_count": 8
        }
      ]
    },
    {
      "cell_type": "code",
      "metadata": {
        "id": "C3ew32YEfL4g"
      },
      "source": [
        "#df_train = df[df[\"is_valid\"] == False]; df_train\n",
        "#df_test = df[df[\"is_valid\"] == True]; df_test\n"
      ],
      "execution_count": 9,
      "outputs": []
    },
    {
      "cell_type": "code",
      "metadata": {
        "id": "epWwc4z9fL4g"
      },
      "source": [
        "df_test = pd.read_csv(path + 'df_test.csv', delimiter=',', error_bad_lines=False)"
      ],
      "execution_count": 10,
      "outputs": []
    },
    {
      "cell_type": "code",
      "metadata": {
        "colab": {
          "base_uri": "https://localhost:8080/",
          "height": 736
        },
        "id": "BROnhrbKw9Y9",
        "outputId": "01503483-fdf8-4613-9d59-ced38190cd97"
      },
      "source": [
        "df_test"
      ],
      "execution_count": 11,
      "outputs": [
        {
          "output_type": "execute_result",
          "data": {
            "text/html": [
              "<div>\n",
              "<style scoped>\n",
              "    .dataframe tbody tr th:only-of-type {\n",
              "        vertical-align: middle;\n",
              "    }\n",
              "\n",
              "    .dataframe tbody tr th {\n",
              "        vertical-align: top;\n",
              "    }\n",
              "\n",
              "    .dataframe thead th {\n",
              "        text-align: right;\n",
              "    }\n",
              "</style>\n",
              "<table border=\"1\" class=\"dataframe\">\n",
              "  <thead>\n",
              "    <tr style=\"text-align: right;\">\n",
              "      <th></th>\n",
              "      <th>class</th>\n",
              "      <th>text</th>\n",
              "      <th>is_valid</th>\n",
              "    </tr>\n",
              "  </thead>\n",
              "  <tbody>\n",
              "    <tr>\n",
              "      <th>0</th>\n",
              "      <td>FirstPage</td>\n",
              "      <td>rii.E ^litl'                                                            karg;; , 1980                                                             ■'!?.!r- ■ !T |Sf: .'■■ J -1 p '■Mr'\" trr*. my MAILLARD REACTION \"A\" FLAVOR COMPONENTS./ A ] 5 6             *!               •• f         -----------------------------------------                                                                      ! i f i wii'.ii ■. , . j i i                                                         F; tp...' t/ t-■ l. ■i. v.' i -!* .i■ uill .,0'; [o,.' ' ’. Identification of flavor components in the ütjiieous la...</td>\n",
              "      <td>True</td>\n",
              "    </tr>\n",
              "    <tr>\n",
              "      <th>1</th>\n",
              "      <td>NextPage</td>\n",
              "      <td>FIGURE I GAS CHROMATOGRAF!</td>\n",
              "      <td>True</td>\n",
              "    </tr>\n",
              "    <tr>\n",
              "      <th>2</th>\n",
              "      <td>NextPage</td>\n",
              "      <td>TABLE 1 Subfraction Ho.                                Gdc]~ T r a n s i t i o n During H_lnt j_wn        1               Floral        2               Mi.lk chocolate,    sweet        3               Cocoa, floral        4               ChocoJatc , weak   cocoa.  strong cocoa        5               Sweet   cocoa, sweet fruity,     cooked  fruity, green itasty        6               Green   and chocolate, faint     cocoa,  sweet, sharp green,                        green bell pepper, sweet nutty, burnt bready nutty, bready sweet, sweet green        7               Green pepper, sharp ranci...</td>\n",
              "      <td>True</td>\n",
              "    </tr>\n",
              "    <tr>\n",
              "      <th>3</th>\n",
              "      <td>NextPage</td>\n",
              "      <td>Tab u 1 J Subfraction // 3 8  Components Identified  Re 1 . Abnndai 2-mettiy 1 pro p anal 3-methylbutanal 2-methylbutanal 2-hexero 1-isocyanatopropane 2,5-dimethylfuran 2-methyl-N - (2-methylpropylidcne)-1-propanainine cyclohexane 2,3-pentandione pyrazine 3-penten-2-one pyridine phenol cyclopentanone 4-me thyl-2-hexene methyIcyclobexane 2-jmethylpy r idine cyclohexanone meLhylphenol 2-methyl-N-(2-methy1propylidene)-1-propanamine ethylbenzene  2-piperidine methatieamine  1-hydroxy-2-propancne  2-methyl-l-pentcne methylpyrazine ethenylbenzem-  2,5-dimethyl pyrazine 2-imitlo-cy c lnpentane o...</td>\n",
              "      <td>True</td>\n",
              "    </tr>\n",
              "    <tr>\n",
              "      <th>4</th>\n",
              "      <td>NextPage</td>\n",
              "      <td>Talj.lt’ IT Subfraction ii        Components Identified                               Re] . Abundance 7                 tyclohexane                                               ++                   2.2-dinethyl-hexanf'                                      +                   oxi ran eite thanol                                       +                  *cyclopentene                                              ++                   2-methy1-2-cycT openten-l-onc                             +                   l-(2-furanyl)-ethanone                                    ++                   furan...</td>\n",
              "      <td>True</td>\n",
              "    </tr>\n",
              "    <tr>\n",
              "      <th>...</th>\n",
              "      <td>...</td>\n",
              "      <td>...</td>\n",
              "      <td>...</td>\n",
              "    </tr>\n",
              "    <tr>\n",
              "      <th>254</th>\n",
              "      <td>NextPage</td>\n",
              "      <td>Hr. Patrick Leathem Page Two November 14, 1990 When corresponding with this office, please include your claim number and the claimant*s ziame. Very truly yours PHILIP MORRIS MANAGEMENT CORP. Ellen Dimech Claims Coordinator cc:    David   Curie       Sue Strausser Colleen Flinn Cläre Pureeil 2063270105</td>\n",
              "      <td>True</td>\n",
              "    </tr>\n",
              "    <tr>\n",
              "      <th>255</th>\n",
              "      <td>FirstPage</td>\n",
              "      <td>LAW OFFICES OF                   NIELSEN, MERKSAMER, HODGSON, PARRINELLO &amp; MUELLER                                              770 L STREET, SUITE 800 SACRAMENTO, CALIFORNIA 05814 TELEPHONE (916) 4*6-6752                                                    SACRAMENTO                                                 A PARTNERSHIP INCLUD1NG A PROFESSIONAL CORPORATION 591 REDWOOD HIGHWAY, #4000 MILL VALLEY, CALIFORNIA 94941 TELEPHONE (413) 369-6S00                                                  650 CALIFORNIA STREET SUITE 2650 SAN FRANCI5CO, CALIFORNIA 94108 TELEPHONE (415) 989-6800         ...</td>\n",
              "      <td>True</td>\n",
              "    </tr>\n",
              "    <tr>\n",
              "      <th>256</th>\n",
              "      <td>FirstPage</td>\n",
              "      <td>/  Wachtell, Ljpton, Rosen &amp; Katz WABTIN UFTON HERBERT M. WACMTCU TH£OBOR£ BEWERT* S£ft*t*3?G W. NUSSBAUM RiCHA.RD O- .HAT CH ER UGUGtAS S, UEBHAF5XY STEVEN M. 0ARWA CH AI« J, FORTGANG PETEJ5 C, GANELLÜS MiCHA^L W. SCHWAftTZ AiLAM A, MABT)H ÖARfly A*BRTEH LAW” EM CE B» FEÜOWITZ ROBERT e. MAZÜR PAUL VtZCARRONOB, JR, PETER C- HEt*S HAROLD 3~ «OVJKCfF DAVID ti, SENHOR» KENNETH B&gt; DORREST MEYER KOPLÜW THEODORE ävL MIRVIS EOWAR3 i*. HCSUHY RICHARD Q- FEINTUCH A&gt; «EFF ERtO M. ROTH WARRCN Rc STER« ANQREW R. flflOWNSTEi« MICHAEL H- BTOWIT1 RAUL #4. ROWE MICHAS B. BECHER MARC WOimSÄY OAVJO &lt;5 RU E...</td>\n",
              "      <td>True</td>\n",
              "    </tr>\n",
              "    <tr>\n",
              "      <th>257</th>\n",
              "      <td>NextPage</td>\n",
              "      <td>Wachtell, Ufton, Rosen                                                          •§ Steve Berman, Esq. February 16,1999 Page 2                As we have an executed fee payment for the State of Nevada, and in view of the fact that Hägens Berman is the only firm listed for the State of Nevada on Exhibit S, we will review that Submission at this time.                 If you have any questions about the foregoing, please feel free to give me a calL Very truly yours?</td>\n",
              "      <td>True</td>\n",
              "    </tr>\n",
              "    <tr>\n",
              "      <th>258</th>\n",
              "      <td>FirstPage</td>\n",
              "      <td>L                                                     John T. Landry                                                 •*OUP VtCC MCSIDCMT DIRCCTOft Or MAItftCT INC‘TOBACCO PHILIP MORRIS                USA. 100 PARK AVENUE,NEW YORK,N.Y. 10017                             November 19, 1970 Dear Mr. Gilmovsky: Your letter to Mr. George Weissman of November 9 has been forwarded to this Office. We would certainly be interested in dis-cussing your proposai on advertising to ethnic groups. In this connection, I suggest you contact Mr. James Thompson, Media Manager and Mr. Clifford Wilmot, Director ...</td>\n",
              "      <td>True</td>\n",
              "    </tr>\n",
              "  </tbody>\n",
              "</table>\n",
              "<p>259 rows × 3 columns</p>\n",
              "</div>"
            ],
            "text/plain": [
              "         class  \\\n",
              "0    FirstPage   \n",
              "1     NextPage   \n",
              "2     NextPage   \n",
              "3     NextPage   \n",
              "4     NextPage   \n",
              "..         ...   \n",
              "254   NextPage   \n",
              "255  FirstPage   \n",
              "256  FirstPage   \n",
              "257   NextPage   \n",
              "258  FirstPage   \n",
              "\n",
              "                                                                                                                                                                                                                                                                                                                                                                                                                                                                                                                                                                                                                        text  \\\n",
              "0    rii.E ^litl'                                                            karg;; , 1980                                                             ■'!?.!r- ■ !T |Sf: .'■■ J -1 p '■Mr'\" trr*. my MAILLARD REACTION \"A\" FLAVOR COMPONENTS./ A ] 5 6             *!               •• f         -----------------------------------------                                                                      ! i f i wii'.ii ■. , . j i i                                                         F; tp...' t/ t-■ l. ■i. v.' i -!* .i■ uill .,0'; [o,.' ' ’. Identification of flavor components in the ütjiieous la...   \n",
              "1                                                                                                                                                                                                                                                                                                                                                                                                                                                                                                                                                                                                 FIGURE I GAS CHROMATOGRAF!   \n",
              "2    TABLE 1 Subfraction Ho.                                Gdc]~ T r a n s i t i o n During H_lnt j_wn        1               Floral        2               Mi.lk chocolate,    sweet        3               Cocoa, floral        4               ChocoJatc , weak   cocoa.  strong cocoa        5               Sweet   cocoa, sweet fruity,     cooked  fruity, green itasty        6               Green   and chocolate, faint     cocoa,  sweet, sharp green,                        green bell pepper, sweet nutty, burnt bready nutty, bready sweet, sweet green        7               Green pepper, sharp ranci...   \n",
              "3     Tab u 1 J Subfraction // 3 8  Components Identified  Re 1 . Abnndai 2-mettiy 1 pro p anal 3-methylbutanal 2-methylbutanal 2-hexero 1-isocyanatopropane 2,5-dimethylfuran 2-methyl-N - (2-methylpropylidcne)-1-propanainine cyclohexane 2,3-pentandione pyrazine 3-penten-2-one pyridine phenol cyclopentanone 4-me thyl-2-hexene methyIcyclobexane 2-jmethylpy r idine cyclohexanone meLhylphenol 2-methyl-N-(2-methy1propylidene)-1-propanamine ethylbenzene  2-piperidine methatieamine  1-hydroxy-2-propancne  2-methyl-l-pentcne methylpyrazine ethenylbenzem-  2,5-dimethyl pyrazine 2-imitlo-cy c lnpentane o...   \n",
              "4    Talj.lt’ IT Subfraction ii        Components Identified                               Re] . Abundance 7                 tyclohexane                                               ++                   2.2-dinethyl-hexanf'                                      +                   oxi ran eite thanol                                       +                  *cyclopentene                                              ++                   2-methy1-2-cycT openten-l-onc                             +                   l-(2-furanyl)-ethanone                                    ++                   furan...   \n",
              "..                                                                                                                                                                                                                                                                                                                                                                                                                                                                                                                                                                                                                       ...   \n",
              "254                                                                                                                                                                                                                                                                                                           Hr. Patrick Leathem Page Two November 14, 1990 When corresponding with this office, please include your claim number and the claimant*s ziame. Very truly yours PHILIP MORRIS MANAGEMENT CORP. Ellen Dimech Claims Coordinator cc:    David   Curie       Sue Strausser Colleen Flinn Cläre Pureeil 2063270105   \n",
              "255  LAW OFFICES OF                   NIELSEN, MERKSAMER, HODGSON, PARRINELLO & MUELLER                                              770 L STREET, SUITE 800 SACRAMENTO, CALIFORNIA 05814 TELEPHONE (916) 4*6-6752                                                    SACRAMENTO                                                 A PARTNERSHIP INCLUD1NG A PROFESSIONAL CORPORATION 591 REDWOOD HIGHWAY, #4000 MILL VALLEY, CALIFORNIA 94941 TELEPHONE (413) 369-6S00                                                  650 CALIFORNIA STREET SUITE 2650 SAN FRANCI5CO, CALIFORNIA 94108 TELEPHONE (415) 989-6800         ...   \n",
              "256   /  Wachtell, Ljpton, Rosen & Katz WABTIN UFTON HERBERT M. WACMTCU TH£OBOR£ BEWERT* S£ft*t*3?G W. NUSSBAUM RiCHA.RD O- .HAT CH ER UGUGtAS S, UEBHAF5XY STEVEN M. 0ARWA CH AI« J, FORTGANG PETEJ5 C, GANELLÜS MiCHA^L W. SCHWAftTZ AiLAM A, MABT)H ÖARfly A*BRTEH LAW” EM CE B» FEÜOWITZ ROBERT e. MAZÜR PAUL VtZCARRONOB, JR, PETER C- HEt*S HAROLD 3~ «OVJKCfF DAVID ti, SENHOR» KENNETH B> DORREST MEYER KOPLÜW THEODORE ävL MIRVIS EOWAR3 i*. HCSUHY RICHARD Q- FEINTUCH A> «EFF ERtO M. ROTH WARRCN Rc STER« ANQREW R. flflOWNSTEi« MICHAEL H- BTOWIT1 RAUL #4. ROWE MICHAS B. BECHER MARC WOimSÄY OAVJO <5 RU E...   \n",
              "257                                                                                                                                       Wachtell, Ufton, Rosen                                                          •§ Steve Berman, Esq. February 16,1999 Page 2                As we have an executed fee payment for the State of Nevada, and in view of the fact that Hägens Berman is the only firm listed for the State of Nevada on Exhibit S, we will review that Submission at this time.                 If you have any questions about the foregoing, please feel free to give me a calL Very truly yours?   \n",
              "258  L                                                     John T. Landry                                                 •*OUP VtCC MCSIDCMT DIRCCTOft Or MAItftCT INC‘TOBACCO PHILIP MORRIS                USA. 100 PARK AVENUE,NEW YORK,N.Y. 10017                             November 19, 1970 Dear Mr. Gilmovsky: Your letter to Mr. George Weissman of November 9 has been forwarded to this Office. We would certainly be interested in dis-cussing your proposai on advertising to ethnic groups. In this connection, I suggest you contact Mr. James Thompson, Media Manager and Mr. Clifford Wilmot, Director ...   \n",
              "\n",
              "     is_valid  \n",
              "0        True  \n",
              "1        True  \n",
              "2        True  \n",
              "3        True  \n",
              "4        True  \n",
              "..        ...  \n",
              "254      True  \n",
              "255      True  \n",
              "256      True  \n",
              "257      True  \n",
              "258      True  \n",
              "\n",
              "[259 rows x 3 columns]"
            ]
          },
          "metadata": {},
          "execution_count": 11
        }
      ]
    },
    {
      "cell_type": "code",
      "metadata": {
        "colab": {
          "base_uri": "https://localhost:8080/",
          "height": 701
        },
        "id": "IrEDogoqxncc",
        "outputId": "27bfc066-901e-4468-c2e3-4c080d178b67"
      },
      "source": [
        "df_lm = pd.read_csv(path + 'unsup.csv', delimiter=',', error_bad_lines=False)\n",
        "df_lm"
      ],
      "execution_count": 12,
      "outputs": [
        {
          "output_type": "execute_result",
          "data": {
            "text/html": [
              "<div>\n",
              "<style scoped>\n",
              "    .dataframe tbody tr th:only-of-type {\n",
              "        vertical-align: middle;\n",
              "    }\n",
              "\n",
              "    .dataframe tbody tr th {\n",
              "        vertical-align: top;\n",
              "    }\n",
              "\n",
              "    .dataframe thead th {\n",
              "        text-align: right;\n",
              "    }\n",
              "</style>\n",
              "<table border=\"1\" class=\"dataframe\">\n",
              "  <thead>\n",
              "    <tr style=\"text-align: right;\">\n",
              "      <th></th>\n",
              "      <th>text</th>\n",
              "    </tr>\n",
              "  </thead>\n",
              "  <tbody>\n",
              "    <tr>\n",
              "      <th>0</th>\n",
              "      <td>rii.E ^litl'                                                            karg;; , 1980                                                             ■'!?.!r- ■ !T |Sf: .'■■ J -1 p '■Mr'\" trr*. my MAILLARD REACTION \"A\" FLAVOR COMPONENTS./ A ] 5 6             *!               •• f         -----------------------------------------                                                                      ! i f i wii'.ii ■. , . j i i                                                         F; tp...' t/ t-■ l. ■i. v.' i -!* .i■ uill .,0'; [o,.' ' ’. Identification of flavor components in the ütjiieous la...</td>\n",
              "    </tr>\n",
              "    <tr>\n",
              "      <th>1</th>\n",
              "      <td>FIGURE I GAS CHROMATOGRAF!</td>\n",
              "    </tr>\n",
              "    <tr>\n",
              "      <th>2</th>\n",
              "      <td>TABLE 1 Subfraction Ho.                                Gdc]~ T r a n s i t i o n During H_lnt j_wn        1               Floral        2               Mi.lk chocolate,    sweet        3               Cocoa, floral        4               ChocoJatc , weak   cocoa.  strong cocoa        5               Sweet   cocoa, sweet fruity,     cooked  fruity, green itasty        6               Green   and chocolate, faint     cocoa,  sweet, sharp green,                        green bell pepper, sweet nutty, burnt bready nutty, bready sweet, sweet green        7               Green pepper, sharp ranci...</td>\n",
              "    </tr>\n",
              "    <tr>\n",
              "      <th>3</th>\n",
              "      <td>Tab u 1 J Subfraction // 3 8  Components Identified  Re 1 . Abnndai 2-mettiy 1 pro p anal 3-methylbutanal 2-methylbutanal 2-hexero 1-isocyanatopropane 2,5-dimethylfuran 2-methyl-N - (2-methylpropylidcne)-1-propanainine cyclohexane 2,3-pentandione pyrazine 3-penten-2-one pyridine phenol cyclopentanone 4-me thyl-2-hexene methyIcyclobexane 2-jmethylpy r idine cyclohexanone meLhylphenol 2-methyl-N-(2-methy1propylidene)-1-propanamine ethylbenzene  2-piperidine methatieamine  1-hydroxy-2-propancne  2-methyl-l-pentcne methylpyrazine ethenylbenzem-  2,5-dimethyl pyrazine 2-imitlo-cy c lnpentane o...</td>\n",
              "    </tr>\n",
              "    <tr>\n",
              "      <th>4</th>\n",
              "      <td>Talj.lt’ IT Subfraction ii        Components Identified                               Re] . Abundance 7                 tyclohexane                                               ++                   2.2-dinethyl-hexanf'                                      +                   oxi ran eite thanol                                       +                  *cyclopentene                                              ++                   2-methy1-2-cycT openten-l-onc                             +                   l-(2-furanyl)-ethanone                                    ++                   furan...</td>\n",
              "    </tr>\n",
              "    <tr>\n",
              "      <th>...</th>\n",
              "      <td>...</td>\n",
              "    </tr>\n",
              "    <tr>\n",
              "      <th>254</th>\n",
              "      <td>Hr. Patrick Leathem Page Two November 14, 1990 When corresponding with this office, please include your claim number and the claimant*s ziame. Very truly yours PHILIP MORRIS MANAGEMENT CORP. Ellen Dimech Claims Coordinator cc:    David   Curie       Sue Strausser Colleen Flinn Cläre Pureeil 2063270105</td>\n",
              "    </tr>\n",
              "    <tr>\n",
              "      <th>255</th>\n",
              "      <td>LAW OFFICES OF                   NIELSEN, MERKSAMER, HODGSON, PARRINELLO &amp; MUELLER                                              770 L STREET, SUITE 800 SACRAMENTO, CALIFORNIA 05814 TELEPHONE (916) 4*6-6752                                                    SACRAMENTO                                                 A PARTNERSHIP INCLUD1NG A PROFESSIONAL CORPORATION 591 REDWOOD HIGHWAY, #4000 MILL VALLEY, CALIFORNIA 94941 TELEPHONE (413) 369-6S00                                                  650 CALIFORNIA STREET SUITE 2650 SAN FRANCI5CO, CALIFORNIA 94108 TELEPHONE (415) 989-6800         ...</td>\n",
              "    </tr>\n",
              "    <tr>\n",
              "      <th>256</th>\n",
              "      <td>/  Wachtell, Ljpton, Rosen &amp; Katz WABTIN UFTON HERBERT M. WACMTCU TH£OBOR£ BEWERT* S£ft*t*3?G W. NUSSBAUM RiCHA.RD O- .HAT CH ER UGUGtAS S, UEBHAF5XY STEVEN M. 0ARWA CH AI« J, FORTGANG PETEJ5 C, GANELLÜS MiCHA^L W. SCHWAftTZ AiLAM A, MABT)H ÖARfly A*BRTEH LAW” EM CE B» FEÜOWITZ ROBERT e. MAZÜR PAUL VtZCARRONOB, JR, PETER C- HEt*S HAROLD 3~ «OVJKCfF DAVID ti, SENHOR» KENNETH B&gt; DORREST MEYER KOPLÜW THEODORE ävL MIRVIS EOWAR3 i*. HCSUHY RICHARD Q- FEINTUCH A&gt; «EFF ERtO M. ROTH WARRCN Rc STER« ANQREW R. flflOWNSTEi« MICHAEL H- BTOWIT1 RAUL #4. ROWE MICHAS B. BECHER MARC WOimSÄY OAVJO &lt;5 RU E...</td>\n",
              "    </tr>\n",
              "    <tr>\n",
              "      <th>257</th>\n",
              "      <td>Wachtell, Ufton, Rosen                                                          •§ Steve Berman, Esq. February 16,1999 Page 2                As we have an executed fee payment for the State of Nevada, and in view of the fact that Hägens Berman is the only firm listed for the State of Nevada on Exhibit S, we will review that Submission at this time.                 If you have any questions about the foregoing, please feel free to give me a calL Very truly yours?</td>\n",
              "    </tr>\n",
              "    <tr>\n",
              "      <th>258</th>\n",
              "      <td>L                                                     John T. Landry                                                 •*OUP VtCC MCSIDCMT DIRCCTOft Or MAItftCT INC‘TOBACCO PHILIP MORRIS                USA. 100 PARK AVENUE,NEW YORK,N.Y. 10017                             November 19, 1970 Dear Mr. Gilmovsky: Your letter to Mr. George Weissman of November 9 has been forwarded to this Office. We would certainly be interested in dis-cussing your proposai on advertising to ethnic groups. In this connection, I suggest you contact Mr. James Thompson, Media Manager and Mr. Clifford Wilmot, Director ...</td>\n",
              "    </tr>\n",
              "  </tbody>\n",
              "</table>\n",
              "<p>259 rows × 1 columns</p>\n",
              "</div>"
            ],
            "text/plain": [
              "                                                                                                                                                                                                                                                                                                                                                                                                                                                                                                                                                                                                                        text\n",
              "0    rii.E ^litl'                                                            karg;; , 1980                                                             ■'!?.!r- ■ !T |Sf: .'■■ J -1 p '■Mr'\" trr*. my MAILLARD REACTION \"A\" FLAVOR COMPONENTS./ A ] 5 6             *!               •• f         -----------------------------------------                                                                      ! i f i wii'.ii ■. , . j i i                                                         F; tp...' t/ t-■ l. ■i. v.' i -!* .i■ uill .,0'; [o,.' ' ’. Identification of flavor components in the ütjiieous la...\n",
              "1                                                                                                                                                                                                                                                                                                                                                                                                                                                                                                                                                                                                 FIGURE I GAS CHROMATOGRAF!\n",
              "2    TABLE 1 Subfraction Ho.                                Gdc]~ T r a n s i t i o n During H_lnt j_wn        1               Floral        2               Mi.lk chocolate,    sweet        3               Cocoa, floral        4               ChocoJatc , weak   cocoa.  strong cocoa        5               Sweet   cocoa, sweet fruity,     cooked  fruity, green itasty        6               Green   and chocolate, faint     cocoa,  sweet, sharp green,                        green bell pepper, sweet nutty, burnt bready nutty, bready sweet, sweet green        7               Green pepper, sharp ranci...\n",
              "3     Tab u 1 J Subfraction // 3 8  Components Identified  Re 1 . Abnndai 2-mettiy 1 pro p anal 3-methylbutanal 2-methylbutanal 2-hexero 1-isocyanatopropane 2,5-dimethylfuran 2-methyl-N - (2-methylpropylidcne)-1-propanainine cyclohexane 2,3-pentandione pyrazine 3-penten-2-one pyridine phenol cyclopentanone 4-me thyl-2-hexene methyIcyclobexane 2-jmethylpy r idine cyclohexanone meLhylphenol 2-methyl-N-(2-methy1propylidene)-1-propanamine ethylbenzene  2-piperidine methatieamine  1-hydroxy-2-propancne  2-methyl-l-pentcne methylpyrazine ethenylbenzem-  2,5-dimethyl pyrazine 2-imitlo-cy c lnpentane o...\n",
              "4    Talj.lt’ IT Subfraction ii        Components Identified                               Re] . Abundance 7                 tyclohexane                                               ++                   2.2-dinethyl-hexanf'                                      +                   oxi ran eite thanol                                       +                  *cyclopentene                                              ++                   2-methy1-2-cycT openten-l-onc                             +                   l-(2-furanyl)-ethanone                                    ++                   furan...\n",
              "..                                                                                                                                                                                                                                                                                                                                                                                                                                                                                                                                                                                                                       ...\n",
              "254                                                                                                                                                                                                                                                                                                           Hr. Patrick Leathem Page Two November 14, 1990 When corresponding with this office, please include your claim number and the claimant*s ziame. Very truly yours PHILIP MORRIS MANAGEMENT CORP. Ellen Dimech Claims Coordinator cc:    David   Curie       Sue Strausser Colleen Flinn Cläre Pureeil 2063270105\n",
              "255  LAW OFFICES OF                   NIELSEN, MERKSAMER, HODGSON, PARRINELLO & MUELLER                                              770 L STREET, SUITE 800 SACRAMENTO, CALIFORNIA 05814 TELEPHONE (916) 4*6-6752                                                    SACRAMENTO                                                 A PARTNERSHIP INCLUD1NG A PROFESSIONAL CORPORATION 591 REDWOOD HIGHWAY, #4000 MILL VALLEY, CALIFORNIA 94941 TELEPHONE (413) 369-6S00                                                  650 CALIFORNIA STREET SUITE 2650 SAN FRANCI5CO, CALIFORNIA 94108 TELEPHONE (415) 989-6800         ...\n",
              "256   /  Wachtell, Ljpton, Rosen & Katz WABTIN UFTON HERBERT M. WACMTCU TH£OBOR£ BEWERT* S£ft*t*3?G W. NUSSBAUM RiCHA.RD O- .HAT CH ER UGUGtAS S, UEBHAF5XY STEVEN M. 0ARWA CH AI« J, FORTGANG PETEJ5 C, GANELLÜS MiCHA^L W. SCHWAftTZ AiLAM A, MABT)H ÖARfly A*BRTEH LAW” EM CE B» FEÜOWITZ ROBERT e. MAZÜR PAUL VtZCARRONOB, JR, PETER C- HEt*S HAROLD 3~ «OVJKCfF DAVID ti, SENHOR» KENNETH B> DORREST MEYER KOPLÜW THEODORE ävL MIRVIS EOWAR3 i*. HCSUHY RICHARD Q- FEINTUCH A> «EFF ERtO M. ROTH WARRCN Rc STER« ANQREW R. flflOWNSTEi« MICHAEL H- BTOWIT1 RAUL #4. ROWE MICHAS B. BECHER MARC WOimSÄY OAVJO <5 RU E...\n",
              "257                                                                                                                                       Wachtell, Ufton, Rosen                                                          •§ Steve Berman, Esq. February 16,1999 Page 2                As we have an executed fee payment for the State of Nevada, and in view of the fact that Hägens Berman is the only firm listed for the State of Nevada on Exhibit S, we will review that Submission at this time.                 If you have any questions about the foregoing, please feel free to give me a calL Very truly yours?\n",
              "258  L                                                     John T. Landry                                                 •*OUP VtCC MCSIDCMT DIRCCTOft Or MAItftCT INC‘TOBACCO PHILIP MORRIS                USA. 100 PARK AVENUE,NEW YORK,N.Y. 10017                             November 19, 1970 Dear Mr. Gilmovsky: Your letter to Mr. George Weissman of November 9 has been forwarded to this Office. We would certainly be interested in dis-cussing your proposai on advertising to ethnic groups. In this connection, I suggest you contact Mr. James Thompson, Media Manager and Mr. Clifford Wilmot, Director ...\n",
              "\n",
              "[259 rows x 1 columns]"
            ]
          },
          "metadata": {},
          "execution_count": 12
        }
      ]
    },
    {
      "cell_type": "code",
      "metadata": {
        "id": "ZGEYGk3dfL4h"
      },
      "source": [
        "df_train = df\n",
        "X, y = df_train['text'].to_list(), df_train['class'].to_list()"
      ],
      "execution_count": 13,
      "outputs": []
    },
    {
      "cell_type": "code",
      "metadata": {
        "id": "lbX8GqxJfL4i"
      },
      "source": [
        "X_train, X_valid, y_train, y_valid = train_test_split(X, y, test_size=0.2, random_state=42, stratify=y)"
      ],
      "execution_count": 14,
      "outputs": []
    },
    {
      "cell_type": "code",
      "metadata": {
        "id": "VCmTW0HafL4i"
      },
      "source": [
        "df_train = pd.DataFrame()\n",
        "df_valid = pd.DataFrame()"
      ],
      "execution_count": 15,
      "outputs": []
    },
    {
      "cell_type": "code",
      "metadata": {
        "id": "4AXh6UVafL4i"
      },
      "source": [
        "df_train['class'], df_train['text'] = y_train, X_train"
      ],
      "execution_count": 16,
      "outputs": []
    },
    {
      "cell_type": "code",
      "metadata": {
        "id": "GNkUW71WfL4i"
      },
      "source": [
        "df_valid['class'], df_valid['text'] = y_valid, X_valid"
      ],
      "execution_count": 17,
      "outputs": []
    },
    {
      "cell_type": "code",
      "metadata": {
        "id": "6fkeDs8ofL4i",
        "colab": {
          "base_uri": "https://localhost:8080/",
          "height": 632
        },
        "outputId": "fb6edca7-e317-4a8d-cecc-cb060ac3aa99"
      },
      "source": [
        "df_train"
      ],
      "execution_count": 18,
      "outputs": [
        {
          "output_type": "execute_result",
          "data": {
            "text/html": [
              "<div>\n",
              "<style scoped>\n",
              "    .dataframe tbody tr th:only-of-type {\n",
              "        vertical-align: middle;\n",
              "    }\n",
              "\n",
              "    .dataframe tbody tr th {\n",
              "        vertical-align: top;\n",
              "    }\n",
              "\n",
              "    .dataframe thead th {\n",
              "        text-align: right;\n",
              "    }\n",
              "</style>\n",
              "<table border=\"1\" class=\"dataframe\">\n",
              "  <thead>\n",
              "    <tr style=\"text-align: right;\">\n",
              "      <th></th>\n",
              "      <th>class</th>\n",
              "      <th>text</th>\n",
              "    </tr>\n",
              "  </thead>\n",
              "  <tbody>\n",
              "    <tr>\n",
              "      <th>0</th>\n",
              "      <td>FirstPage</td>\n",
              "      <td>►iYÖ 62S (S-6Q) U E'  0 R A N D Ei M j February 14, 1986 a DJH/tSiorv nr aMEfltCiM E             Mr. R. S. Sprinkle, III, Vice President - Research &amp; Development  F  I? g E. C. Wortham, Buyer/Supervisor m R E Tobacco Samples We are forwarding to you today via UPS samples of the following tobacco on which we would appreciate your sending us an analysis:                                        From:   K.  R.  Edwards Leaf  Tobacco  Co.                                                 Smithfield, N.c.                                                Canadian Flue-Cured'                           ...</td>\n",
              "    </tr>\n",
              "    <tr>\n",
              "      <th>1</th>\n",
              "      <td>FirstPage</td>\n",
              "      <td>/) ~ THE AMFRTGAN TOBACCO COMPANY AGENCY ACTION MEMO FROM: kr WJtä&amp;CA DATE:         rJo MEDIA -?Z- OUT OF HOME ACCOUNT GROUP RESEARCH 7RAFFIC/ PRODUCTION ACCOUNTING              LCF&amp;L R.Adlsr-AllX  L. Stern  M,Schan-CL G.Fous »X M. Hatz J.Rosen  /  Ha  R.Brown  Mu  ATCO_______________                                                                                                                               Ganunons - ATT  M.Schan-A-MC-TR-KL G.Fous  S.Pool J.Morris Moore Johnston Gesell  J . Adams onvfl-Y-P-T- J , Adamson-BD-R-L G.AugustX -M G.August S.Sunshine         C.Herder  ...</td>\n",
              "    </tr>\n",
              "    <tr>\n",
              "      <th>2</th>\n",
              "      <td>NextPage</td>\n",
              "      <td>APR 121375 T. S. OSDENE</td>\n",
              "    </tr>\n",
              "    <tr>\n",
              "      <th>3</th>\n",
              "      <td>FirstPage</td>\n",
              "      <td>/SO                                                                        CadlcAddress row hatten  TO THE ENTIRE SALES ORGANIZATION  In vlew of the increase in the list price of P and HERBERT TAREYTON Cigarettes please make th indicated below on the following tax-paid Pric which you have in your possession:    N.Y.O. 344 PRICE LIST                                                                                          DISTRIBUTION  MAILED TO SECTiCNS                                                                                                                 r /oiST                   ...</td>\n",
              "    </tr>\n",
              "    <tr>\n",
              "      <th>4</th>\n",
              "      <td>FirstPage</td>\n",
              "      <td>t Vj                                                                                                                                                                                                                                                                                                                                                                ;' ! .i maatin lipton HERBERT M* WACHTELL LEONARD M* ROSEN THEODORE GEWERT2 BERNARD W* -NUS5BAUM BERTRAM M* KANTOR RICHARD D. KATCHER DOUGLAS S, LIEB RAPS KY LAURENCE D, CHERKIS STEVEN Mj BARNA CHARLES T. MEDCRRSCK CHAf M J, PORTO AN O PETE...</td>\n",
              "    </tr>\n",
              "    <tr>\n",
              "      <th>...</th>\n",
              "      <td>...</td>\n",
              "      <td>...</td>\n",
              "    </tr>\n",
              "    <tr>\n",
              "      <th>819</th>\n",
              "      <td>NextPage</td>\n",
              "      <td>NaN</td>\n",
              "    </tr>\n",
              "    <tr>\n",
              "      <th>820</th>\n",
              "      <td>FirstPage</td>\n",
              "      <td>THE AMERICAN TOBACCO COMPANY CLOSED CAPITAL PROJECTS REPORT AS OF SEPTEMBER 30,1990 YEAfi-TO-DATE                                                                                    CAPrTAL                             EXPENSE .                        MECH                                                       CA H. JOB    AUTH   AUTH'   PRIOR   UHREN   QUARTER             PRIOR   URFLEN QUARTER                :qc*&gt;P-             LOCATION          JOBDESCRIPTION            *    #   CAPrTAL  e*P£NSE PERIOD  ...</td>\n",
              "    </tr>\n",
              "    <tr>\n",
              "      <th>821</th>\n",
              "      <td>NextPage</td>\n",
              "      <td>Mr. D. R. Dugan 8th Floor</td>\n",
              "    </tr>\n",
              "    <tr>\n",
              "      <th>822</th>\n",
              "      <td>FirstPage</td>\n",
              "      <td>April 2, 1973 Mr. A. G. Moore                       Weekly Report - March 23-30, 1973 Project 2903 - Service to Manufacturing G-7        A test run with G-7 extract in the aeration evaporator at 90-3 showed that the evaporator could increase the concentration by at least forty per cent. Some foam entrainment in the exhaust gas was noted, but it will not prevent use of the system. Additional tests are planned for the week of April 2, and use of some of the concentrate on the feed end of Mo. 4 Dryer during that week is anti-cipated.              UlULd-                R. M. Neel</td>\n",
              "    </tr>\n",
              "    <tr>\n",
              "      <th>823</th>\n",
              "      <td>FirstPage</td>\n",
              "      <td>The Mounl Sinai Medical Center         Dorothy H.and I^ewis S, Rosenstiel                                       Department of Bioehemistiy The Mount Sinai Hospital Mount Sinai School of Medicine Box 1020 One Gustave L. I.evy Place New York, NY 10029-6574   Tel (212) 241- 9 4 31 Fax (212) 996-7214 Ms, Lorraine Pollice, Treasurer, The Council for Tobacco Research, 900 Third Avenue, New York, NY 10022. RE: Grant #3035AR1 Dear Ms. Pollice,       This note is to approve the overexpenditure on my grant and to ask you kindly to send the check for $8,733.07 to the Rockefeiler University.       I w...</td>\n",
              "    </tr>\n",
              "  </tbody>\n",
              "</table>\n",
              "<p>824 rows × 2 columns</p>\n",
              "</div>"
            ],
            "text/plain": [
              "         class  \\\n",
              "0    FirstPage   \n",
              "1    FirstPage   \n",
              "2     NextPage   \n",
              "3    FirstPage   \n",
              "4    FirstPage   \n",
              "..         ...   \n",
              "819   NextPage   \n",
              "820  FirstPage   \n",
              "821   NextPage   \n",
              "822  FirstPage   \n",
              "823  FirstPage   \n",
              "\n",
              "                                                                                                                                                                                                                                                                                                                                                                                                                                                                                                                                                                                                                        text  \n",
              "0    ►iYÖ 62S (S-6Q) U E'  0 R A N D Ei M j February 14, 1986 a DJH/tSiorv nr aMEfltCiM E             Mr. R. S. Sprinkle, III, Vice President - Research & Development  F  I? g E. C. Wortham, Buyer/Supervisor m R E Tobacco Samples We are forwarding to you today via UPS samples of the following tobacco on which we would appreciate your sending us an analysis:                                        From:   K.  R.  Edwards Leaf  Tobacco  Co.                                                 Smithfield, N.c.                                                Canadian Flue-Cured'                           ...  \n",
              "1             /) ~ THE AMFRTGAN TOBACCO COMPANY AGENCY ACTION MEMO FROM: kr WJtä&CA DATE:         rJo MEDIA -?Z- OUT OF HOME ACCOUNT GROUP RESEARCH 7RAFFIC/ PRODUCTION ACCOUNTING              LCF&L R.Adlsr-AllX  L. Stern  M,Schan-CL G.Fous »X M. Hatz J.Rosen  /  Ha  R.Brown  Mu  ATCO_______________                                                                                                                               Ganunons - ATT  M.Schan-A-MC-TR-KL G.Fous  S.Pool J.Morris Moore Johnston Gesell  J . Adams onvfl-Y-P-T- J , Adamson-BD-R-L G.AugustX -M G.August S.Sunshine         C.Herder  ...  \n",
              "2                                                                                                                                                                                                                                                                                                                                                                                                                                                                                                                                                                                                    APR 121375 T. S. OSDENE  \n",
              "3     /SO                                                                        CadlcAddress row hatten  TO THE ENTIRE SALES ORGANIZATION  In vlew of the increase in the list price of P and HERBERT TAREYTON Cigarettes please make th indicated below on the following tax-paid Pric which you have in your possession:    N.Y.O. 344 PRICE LIST                                                                                          DISTRIBUTION  MAILED TO SECTiCNS                                                                                                                 r /oiST                   ...  \n",
              "4    t Vj                                                                                                                                                                                                                                                                                                                                                                ;' ! .i maatin lipton HERBERT M* WACHTELL LEONARD M* ROSEN THEODORE GEWERT2 BERNARD W* -NUS5BAUM BERTRAM M* KANTOR RICHARD D. KATCHER DOUGLAS S, LIEB RAPS KY LAURENCE D, CHERKIS STEVEN Mj BARNA CHARLES T. MEDCRRSCK CHAf M J, PORTO AN O PETE...  \n",
              "..                                                                                                                                                                                                                                                                                                                                                                                                                                                                                                                                                                                                                       ...  \n",
              "819                                                                                                                                                                                                                                                                                                                                                                                                                                                                                                                                                                                                                      NaN  \n",
              "820                                                                                         THE AMERICAN TOBACCO COMPANY CLOSED CAPITAL PROJECTS REPORT AS OF SEPTEMBER 30,1990 YEAfi-TO-DATE                                                                                    CAPrTAL                             EXPENSE .                        MECH                                                       CA H. JOB    AUTH   AUTH'   PRIOR   UHREN   QUARTER             PRIOR   URFLEN QUARTER                :qc*>P-             LOCATION          JOBDESCRIPTION            *    #   CAPrTAL  e*P£NSE PERIOD  ...  \n",
              "821                                                                                                                                                                                                                                                                                                                                                                                                                                                                                                                                                                                                Mr. D. R. Dugan 8th Floor  \n",
              "822                   April 2, 1973 Mr. A. G. Moore                       Weekly Report - March 23-30, 1973 Project 2903 - Service to Manufacturing G-7        A test run with G-7 extract in the aeration evaporator at 90-3 showed that the evaporator could increase the concentration by at least forty per cent. Some foam entrainment in the exhaust gas was noted, but it will not prevent use of the system. Additional tests are planned for the week of April 2, and use of some of the concentrate on the feed end of Mo. 4 Dryer during that week is anti-cipated.              UlULd-                R. M. Neel  \n",
              "823  The Mounl Sinai Medical Center         Dorothy H.and I^ewis S, Rosenstiel                                       Department of Bioehemistiy The Mount Sinai Hospital Mount Sinai School of Medicine Box 1020 One Gustave L. I.evy Place New York, NY 10029-6574   Tel (212) 241- 9 4 31 Fax (212) 996-7214 Ms, Lorraine Pollice, Treasurer, The Council for Tobacco Research, 900 Third Avenue, New York, NY 10022. RE: Grant #3035AR1 Dear Ms. Pollice,       This note is to approve the overexpenditure on my grant and to ask you kindly to send the check for $8,733.07 to the Rockefeiler University.       I w...  \n",
              "\n",
              "[824 rows x 2 columns]"
            ]
          },
          "metadata": {},
          "execution_count": 18
        }
      ]
    },
    {
      "cell_type": "code",
      "metadata": {
        "id": "sK-GUAFqfL4j",
        "colab": {
          "base_uri": "https://localhost:8080/",
          "height": 736
        },
        "outputId": "bfd39aa3-7402-43f7-8145-b66a829f2d09"
      },
      "source": [
        "df_valid"
      ],
      "execution_count": 19,
      "outputs": [
        {
          "output_type": "execute_result",
          "data": {
            "text/html": [
              "<div>\n",
              "<style scoped>\n",
              "    .dataframe tbody tr th:only-of-type {\n",
              "        vertical-align: middle;\n",
              "    }\n",
              "\n",
              "    .dataframe tbody tr th {\n",
              "        vertical-align: top;\n",
              "    }\n",
              "\n",
              "    .dataframe thead th {\n",
              "        text-align: right;\n",
              "    }\n",
              "</style>\n",
              "<table border=\"1\" class=\"dataframe\">\n",
              "  <thead>\n",
              "    <tr style=\"text-align: right;\">\n",
              "      <th></th>\n",
              "      <th>class</th>\n",
              "      <th>text</th>\n",
              "    </tr>\n",
              "  </thead>\n",
              "  <tbody>\n",
              "    <tr>\n",
              "      <th>0</th>\n",
              "      <td>FirstPage</td>\n",
              "      <td>BROWN « WILLIAMSON TOBACCO CORPORATION                              !5&lt;X:         &amp;        Witltiir,ist.'r: Tiwtr                  l,&lt;&gt;iu\\viiit (u;!\\‘rs-.. &lt;&gt;  !h \\ ,f.ffiQC .1,mi.-.ü . kt-iitm H\\-f Dr. D. P. Robinson                        1 British-American Tobacco Company, Ltd. Group Research &amp; Development Centre Regent's Park Road Millbrook Southampton, England SQ9 1PE Dear Dave: 1 hope that all is going well with you. Lance Reynolds asked that I provide you with a description of our GEMINI cigarette for modeling of flows, The specifications and a diagram of the filter components are a...</td>\n",
              "    </tr>\n",
              "    <tr>\n",
              "      <th>1</th>\n",
              "      <td>NextPage</td>\n",
              "      <td>...</td>\n",
              "    </tr>\n",
              "    <tr>\n",
              "      <th>2</th>\n",
              "      <td>NextPage</td>\n",
              "      <td>Mr. Christopher J. Ferraro  January 4, 1991  Page 2 and announcements prepared by Promoter that mention PM or MARLBORO; provided. that the approval is effected on a timely basis;            (f)   200 general admission tickets and 10 vehicle passes to the Event;            (g) adequate storage space in Expo Hall with hand cart or equivalent to transport product and promotional items to designated locations;            (h) reserved seating to Rodeo events and Entertainment Hall performances, given advance notice and confirmed attendance;            (i) VIP access to media/corporate Sponsor ...</td>\n",
              "    </tr>\n",
              "    <tr>\n",
              "      <th>3</th>\n",
              "      <td>FirstPage</td>\n",
              "      <td>Daniel &amp; Charles Associates. Ltd.            261 MAD1SON AVI NU f. NEW YORK, NEW YORK 1(1016 |212)M01-0200                                                   September 12, 1978 Mr. Robert Costello The American Tobacco 245 Park Avenue  Company New York, N.Y. 10017 Dear Bob: Attached is the revised         1978 eetimated monthly experfdithres for newspaper advertislng,       As we dlscussed, the newspaper budget has been reduced by $412,000 from $2,919,000 to $2,507,000 due to the follovlng:             - cancellation of the TV log/franchtse echedules from September 11 to October 1...</td>\n",
              "    </tr>\n",
              "    <tr>\n",
              "      <th>4</th>\n",
              "      <td>FirstPage</td>\n",
              "      <td>i us® 4100 Boxbore Road Oufham, N.C. 27782 {919) 471-7511 Uggett&amp;Myeis Incorporated  Telex No.s   510-9274 817  Cablm . LIGMYTOCO law Oepartro*r»t                              October 14? 1975 Consulate ,©f Argentina 204 Keyser Building Baltimore f Haryland 21202 Gentlemen:         Enclosed please find a Power of Attorney form.which has been aigned, notarised and attested to by all the proper authorities. This Power of Attorney gives our foreign associate’in Argentina the power to act in our behalf on patent matters in your country.         We would appreciate your l.egalizing this documen...</td>\n",
              "    </tr>\n",
              "    <tr>\n",
              "      <th>...</th>\n",
              "      <td>...</td>\n",
              "      <td>...</td>\n",
              "    </tr>\n",
              "    <tr>\n",
              "      <th>202</th>\n",
              "      <td>NextPage</td>\n",
              "      <td>RBCEWED viül 2 7 1992 DEPT. OFR&amp;QA</td>\n",
              "    </tr>\n",
              "    <tr>\n",
              "      <th>203</th>\n",
              "      <td>FirstPage</td>\n",
              "      <td>LORILLARD, INC. Research Center, 420 English Street, P.O. Box 21688j Greensboro, North Carolina 27420-1688 October 31, 1986 Dr. R. M. David Microbiological Associates Inc. 5221 River Rd. Bethesda, MD 20816 Dear Ray: Enclosed are the signedi protocols for the Enzyme Induction Study with' LRC materials B200 , B201, B202 and B204 (Study Nbs. 1-7014.401 , 1-7015.401, 1-7016.401 and 1-7017.401, respectively). If you have any questions, please feel free to call. Thomas A. Vollmuth, Ph.D. Toxicologist, Life Sciences TAV/lp:1                                                                         ...</td>\n",
              "    </tr>\n",
              "    <tr>\n",
              "      <th>204</th>\n",
              "      <td>NextPage</td>\n",
              "      <td>(jfc            (/o^jexo-^cnyxaTi^'                                                                                                - 2 - Let's contlnue to win more consumers for LUCKY STRIKE and DUAL FILTER TAREYTON by capitallzing on our sponsorship through -   - an outstanding showing of the baseball material     - the building and maintaining of displays wherever possible            - Creative and imaginative promqtional efforts.  F. X. Whelan Executive Sales Manager</td>\n",
              "    </tr>\n",
              "    <tr>\n",
              "      <th>205</th>\n",
              "      <td>NextPage</td>\n",
              "      <td>MONTCLAIR Modern Cigarettes 1963 SPOT RADIO LEAF MARKETS                                   STATION &amp; AMOUNT OR                                      15 Spots CITY &amp; STATE                         Per  Week WInchester, Ky.                        WWKY Riehmond, Ky.                          WEKY Moultrlej Ga.                          WMGA Madison, Ind.                          WORX Bowling Green, Ky.                     WLBJ Glasgow, Ky.                           WKAY Greenville, N.C.                       WOOW Henderson, N.C.                        WHNC Kinston, N.C.  ...</td>\n",
              "    </tr>\n",
              "    <tr>\n",
              "      <th>206</th>\n",
              "      <td>NextPage</td>\n",
              "      <td>ALBERT EINSTEIN COLLEGE OF MEDICINE 1 OF YESHIVA UNIVERS1TY                                 1300 MORRIS PARK AVENUE, BRONX,N.Y. 10461 :CABLE:E[NCOLLMED,N.Y. DEPARTMENT of GENETICS Dr. Vincent F. Lisanti The Council for Tobacco Research, ILS.A., Inc. 110 East 59th,Street New York, N.Y. 10022 Dear Dr. Lisanti:       I am writing to request.perjnission to purchase a Packaxd TRI-CARB 3Q0C microprocessor liquid seihtillation counter at a price of.$16,250 on my CTR grant 1126A. When I originally wrote this grant application, the cost of an equivalhnt scint...</td>\n",
              "    </tr>\n",
              "  </tbody>\n",
              "</table>\n",
              "<p>207 rows × 2 columns</p>\n",
              "</div>"
            ],
            "text/plain": [
              "         class  \\\n",
              "0    FirstPage   \n",
              "1     NextPage   \n",
              "2     NextPage   \n",
              "3    FirstPage   \n",
              "4    FirstPage   \n",
              "..         ...   \n",
              "202   NextPage   \n",
              "203  FirstPage   \n",
              "204   NextPage   \n",
              "205   NextPage   \n",
              "206   NextPage   \n",
              "\n",
              "                                                                                                                                                                                                                                                                                                                                                                                                                                                                                                                                                                                                                        text  \n",
              "0    BROWN « WILLIAMSON TOBACCO CORPORATION                              !5<X:         &        Witltiir,ist.'r: Tiwtr                  l,<>iu\\viiit (u;!\\‘rs-.. <>  !h \\ ,f.ffiQC .1,mi.-.ü . kt-iitm H\\-f Dr. D. P. Robinson                        1 British-American Tobacco Company, Ltd. Group Research & Development Centre Regent's Park Road Millbrook Southampton, England SQ9 1PE Dear Dave: 1 hope that all is going well with you. Lance Reynolds asked that I provide you with a description of our GEMINI cigarette for modeling of flows, The specifications and a diagram of the filter components are a...  \n",
              "1                                                                                                                                                                                                                                                                                                                                                                                                                                                                                                                                                                                                                        ...  \n",
              "2     Mr. Christopher J. Ferraro  January 4, 1991  Page 2 and announcements prepared by Promoter that mention PM or MARLBORO; provided. that the approval is effected on a timely basis;            (f)   200 general admission tickets and 10 vehicle passes to the Event;            (g) adequate storage space in Expo Hall with hand cart or equivalent to transport product and promotional items to designated locations;            (h) reserved seating to Rodeo events and Entertainment Hall performances, given advance notice and confirmed attendance;            (i) VIP access to media/corporate Sponsor ...  \n",
              "3               Daniel & Charles Associates. Ltd.            261 MAD1SON AVI NU f. NEW YORK, NEW YORK 1(1016 |212)M01-0200                                                   September 12, 1978 Mr. Robert Costello The American Tobacco 245 Park Avenue  Company New York, N.Y. 10017 Dear Bob: Attached is the revised         1978 eetimated monthly experfdithres for newspaper advertislng,       As we dlscussed, the newspaper budget has been reduced by $412,000 from $2,919,000 to $2,507,000 due to the follovlng:             - cancellation of the TV log/franchtse echedules from September 11 to October 1...  \n",
              "4    i us® 4100 Boxbore Road Oufham, N.C. 27782 {919) 471-7511 Uggett&Myeis Incorporated  Telex No.s   510-9274 817  Cablm . LIGMYTOCO law Oepartro*r»t                              October 14? 1975 Consulate ,©f Argentina 204 Keyser Building Baltimore f Haryland 21202 Gentlemen:         Enclosed please find a Power of Attorney form.which has been aigned, notarised and attested to by all the proper authorities. This Power of Attorney gives our foreign associate’in Argentina the power to act in our behalf on patent matters in your country.         We would appreciate your l.egalizing this documen...  \n",
              "..                                                                                                                                                                                                                                                                                                                                                                                                                                                                                                                                                                                                                       ...  \n",
              "202                                                                                                                                                                                                                                                                                                                                                                                                                                                                                                                                                                                       RBCEWED viül 2 7 1992 DEPT. OFR&QA  \n",
              "203  LORILLARD, INC. Research Center, 420 English Street, P.O. Box 21688j Greensboro, North Carolina 27420-1688 October 31, 1986 Dr. R. M. David Microbiological Associates Inc. 5221 River Rd. Bethesda, MD 20816 Dear Ray: Enclosed are the signedi protocols for the Enzyme Induction Study with' LRC materials B200 , B201, B202 and B204 (Study Nbs. 1-7014.401 , 1-7015.401, 1-7016.401 and 1-7017.401, respectively). If you have any questions, please feel free to call. Thomas A. Vollmuth, Ph.D. Toxicologist, Life Sciences TAV/lp:1                                                                         ...  \n",
              "204                                                                                                                               (jfc            (/o^jexo-^cnyxaTi^'                                                                                                - 2 - Let's contlnue to win more consumers for LUCKY STRIKE and DUAL FILTER TAREYTON by capitallzing on our sponsorship through -   - an outstanding showing of the baseball material     - the building and maintaining of displays wherever possible            - Creative and imaginative promqtional efforts.  F. X. Whelan Executive Sales Manager  \n",
              "205                           MONTCLAIR Modern Cigarettes 1963 SPOT RADIO LEAF MARKETS                                   STATION & AMOUNT OR                                      15 Spots CITY & STATE                         Per  Week WInchester, Ky.                        WWKY Riehmond, Ky.                          WEKY Moultrlej Ga.                          WMGA Madison, Ind.                          WORX Bowling Green, Ky.                     WLBJ Glasgow, Ky.                           WKAY Greenville, N.C.                       WOOW Henderson, N.C.                        WHNC Kinston, N.C.  ...  \n",
              "206                                          ALBERT EINSTEIN COLLEGE OF MEDICINE 1 OF YESHIVA UNIVERS1TY                                 1300 MORRIS PARK AVENUE, BRONX,N.Y. 10461 :CABLE:E[NCOLLMED,N.Y. DEPARTMENT of GENETICS Dr. Vincent F. Lisanti The Council for Tobacco Research, ILS.A., Inc. 110 East 59th,Street New York, N.Y. 10022 Dear Dr. Lisanti:       I am writing to request.perjnission to purchase a Packaxd TRI-CARB 3Q0C microprocessor liquid seihtillation counter at a price of.$16,250 on my CTR grant 1126A. When I originally wrote this grant application, the cost of an equivalhnt scint...  \n",
              "\n",
              "[207 rows x 2 columns]"
            ]
          },
          "metadata": {},
          "execution_count": 19
        }
      ]
    },
    {
      "cell_type": "code",
      "metadata": {
        "id": "1zRXkBQqfL4j",
        "colab": {
          "base_uri": "https://localhost:8080/"
        },
        "outputId": "c0f9e5ae-02b0-4ed7-e887-2dd675f5192e"
      },
      "source": [
        "df_train['class'].value_counts(), df_valid['class'].value_counts()"
      ],
      "execution_count": 20,
      "outputs": [
        {
          "output_type": "execute_result",
          "data": {
            "text/plain": [
              "(FirstPage    468\n",
              " NextPage     356\n",
              " Name: class, dtype: int64, FirstPage    118\n",
              " NextPage      89\n",
              " Name: class, dtype: int64)"
            ]
          },
          "metadata": {},
          "execution_count": 20
        }
      ]
    },
    {
      "cell_type": "code",
      "metadata": {
        "id": "AFBqs40jfL4k"
      },
      "source": [
        "df_train_val = pd.concat([df_train, df_valid])"
      ],
      "execution_count": 21,
      "outputs": []
    },
    {
      "cell_type": "code",
      "metadata": {
        "id": "e9qDZF3PfL4k"
      },
      "source": [
        "df_train_val.to_csv('df_train_val.csv',encoding='utf-8', index=False)"
      ],
      "execution_count": 22,
      "outputs": []
    },
    {
      "cell_type": "code",
      "metadata": {
        "id": "21a8JcOUfL4k",
        "colab": {
          "base_uri": "https://localhost:8080/",
          "height": 667
        },
        "outputId": "a35dcd3e-eefe-465c-e572-cfc72e4b160c"
      },
      "source": [
        "df_train_val"
      ],
      "execution_count": 23,
      "outputs": [
        {
          "output_type": "execute_result",
          "data": {
            "text/html": [
              "<div>\n",
              "<style scoped>\n",
              "    .dataframe tbody tr th:only-of-type {\n",
              "        vertical-align: middle;\n",
              "    }\n",
              "\n",
              "    .dataframe tbody tr th {\n",
              "        vertical-align: top;\n",
              "    }\n",
              "\n",
              "    .dataframe thead th {\n",
              "        text-align: right;\n",
              "    }\n",
              "</style>\n",
              "<table border=\"1\" class=\"dataframe\">\n",
              "  <thead>\n",
              "    <tr style=\"text-align: right;\">\n",
              "      <th></th>\n",
              "      <th>class</th>\n",
              "      <th>text</th>\n",
              "    </tr>\n",
              "  </thead>\n",
              "  <tbody>\n",
              "    <tr>\n",
              "      <th>0</th>\n",
              "      <td>FirstPage</td>\n",
              "      <td>►iYÖ 62S (S-6Q) U E'  0 R A N D Ei M j February 14, 1986 a DJH/tSiorv nr aMEfltCiM E             Mr. R. S. Sprinkle, III, Vice President - Research &amp; Development  F  I? g E. C. Wortham, Buyer/Supervisor m R E Tobacco Samples We are forwarding to you today via UPS samples of the following tobacco on which we would appreciate your sending us an analysis:                                        From:   K.  R.  Edwards Leaf  Tobacco  Co.                                                 Smithfield, N.c.                                                Canadian Flue-Cured'                           ...</td>\n",
              "    </tr>\n",
              "    <tr>\n",
              "      <th>1</th>\n",
              "      <td>FirstPage</td>\n",
              "      <td>/) ~ THE AMFRTGAN TOBACCO COMPANY AGENCY ACTION MEMO FROM: kr WJtä&amp;CA DATE:         rJo MEDIA -?Z- OUT OF HOME ACCOUNT GROUP RESEARCH 7RAFFIC/ PRODUCTION ACCOUNTING              LCF&amp;L R.Adlsr-AllX  L. Stern  M,Schan-CL G.Fous »X M. Hatz J.Rosen  /  Ha  R.Brown  Mu  ATCO_______________                                                                                                                               Ganunons - ATT  M.Schan-A-MC-TR-KL G.Fous  S.Pool J.Morris Moore Johnston Gesell  J . Adams onvfl-Y-P-T- J , Adamson-BD-R-L G.AugustX -M G.August S.Sunshine         C.Herder  ...</td>\n",
              "    </tr>\n",
              "    <tr>\n",
              "      <th>2</th>\n",
              "      <td>NextPage</td>\n",
              "      <td>APR 121375 T. S. OSDENE</td>\n",
              "    </tr>\n",
              "    <tr>\n",
              "      <th>3</th>\n",
              "      <td>FirstPage</td>\n",
              "      <td>/SO                                                                        CadlcAddress row hatten  TO THE ENTIRE SALES ORGANIZATION  In vlew of the increase in the list price of P and HERBERT TAREYTON Cigarettes please make th indicated below on the following tax-paid Pric which you have in your possession:    N.Y.O. 344 PRICE LIST                                                                                          DISTRIBUTION  MAILED TO SECTiCNS                                                                                                                 r /oiST                   ...</td>\n",
              "    </tr>\n",
              "    <tr>\n",
              "      <th>4</th>\n",
              "      <td>FirstPage</td>\n",
              "      <td>t Vj                                                                                                                                                                                                                                                                                                                                                                ;' ! .i maatin lipton HERBERT M* WACHTELL LEONARD M* ROSEN THEODORE GEWERT2 BERNARD W* -NUS5BAUM BERTRAM M* KANTOR RICHARD D. KATCHER DOUGLAS S, LIEB RAPS KY LAURENCE D, CHERKIS STEVEN Mj BARNA CHARLES T. MEDCRRSCK CHAf M J, PORTO AN O PETE...</td>\n",
              "    </tr>\n",
              "    <tr>\n",
              "      <th>...</th>\n",
              "      <td>...</td>\n",
              "      <td>...</td>\n",
              "    </tr>\n",
              "    <tr>\n",
              "      <th>202</th>\n",
              "      <td>NextPage</td>\n",
              "      <td>RBCEWED viül 2 7 1992 DEPT. OFR&amp;QA</td>\n",
              "    </tr>\n",
              "    <tr>\n",
              "      <th>203</th>\n",
              "      <td>FirstPage</td>\n",
              "      <td>LORILLARD, INC. Research Center, 420 English Street, P.O. Box 21688j Greensboro, North Carolina 27420-1688 October 31, 1986 Dr. R. M. David Microbiological Associates Inc. 5221 River Rd. Bethesda, MD 20816 Dear Ray: Enclosed are the signedi protocols for the Enzyme Induction Study with' LRC materials B200 , B201, B202 and B204 (Study Nbs. 1-7014.401 , 1-7015.401, 1-7016.401 and 1-7017.401, respectively). If you have any questions, please feel free to call. Thomas A. Vollmuth, Ph.D. Toxicologist, Life Sciences TAV/lp:1                                                                         ...</td>\n",
              "    </tr>\n",
              "    <tr>\n",
              "      <th>204</th>\n",
              "      <td>NextPage</td>\n",
              "      <td>(jfc            (/o^jexo-^cnyxaTi^'                                                                                                - 2 - Let's contlnue to win more consumers for LUCKY STRIKE and DUAL FILTER TAREYTON by capitallzing on our sponsorship through -   - an outstanding showing of the baseball material     - the building and maintaining of displays wherever possible            - Creative and imaginative promqtional efforts.  F. X. Whelan Executive Sales Manager</td>\n",
              "    </tr>\n",
              "    <tr>\n",
              "      <th>205</th>\n",
              "      <td>NextPage</td>\n",
              "      <td>MONTCLAIR Modern Cigarettes 1963 SPOT RADIO LEAF MARKETS                                   STATION &amp; AMOUNT OR                                      15 Spots CITY &amp; STATE                         Per  Week WInchester, Ky.                        WWKY Riehmond, Ky.                          WEKY Moultrlej Ga.                          WMGA Madison, Ind.                          WORX Bowling Green, Ky.                     WLBJ Glasgow, Ky.                           WKAY Greenville, N.C.                       WOOW Henderson, N.C.                        WHNC Kinston, N.C.  ...</td>\n",
              "    </tr>\n",
              "    <tr>\n",
              "      <th>206</th>\n",
              "      <td>NextPage</td>\n",
              "      <td>ALBERT EINSTEIN COLLEGE OF MEDICINE 1 OF YESHIVA UNIVERS1TY                                 1300 MORRIS PARK AVENUE, BRONX,N.Y. 10461 :CABLE:E[NCOLLMED,N.Y. DEPARTMENT of GENETICS Dr. Vincent F. Lisanti The Council for Tobacco Research, ILS.A., Inc. 110 East 59th,Street New York, N.Y. 10022 Dear Dr. Lisanti:       I am writing to request.perjnission to purchase a Packaxd TRI-CARB 3Q0C microprocessor liquid seihtillation counter at a price of.$16,250 on my CTR grant 1126A. When I originally wrote this grant application, the cost of an equivalhnt scint...</td>\n",
              "    </tr>\n",
              "  </tbody>\n",
              "</table>\n",
              "<p>1031 rows × 2 columns</p>\n",
              "</div>"
            ],
            "text/plain": [
              "         class  \\\n",
              "0    FirstPage   \n",
              "1    FirstPage   \n",
              "2     NextPage   \n",
              "3    FirstPage   \n",
              "4    FirstPage   \n",
              "..         ...   \n",
              "202   NextPage   \n",
              "203  FirstPage   \n",
              "204   NextPage   \n",
              "205   NextPage   \n",
              "206   NextPage   \n",
              "\n",
              "                                                                                                                                                                                                                                                                                                                                                                                                                                                                                                                                                                                                                        text  \n",
              "0    ►iYÖ 62S (S-6Q) U E'  0 R A N D Ei M j February 14, 1986 a DJH/tSiorv nr aMEfltCiM E             Mr. R. S. Sprinkle, III, Vice President - Research & Development  F  I? g E. C. Wortham, Buyer/Supervisor m R E Tobacco Samples We are forwarding to you today via UPS samples of the following tobacco on which we would appreciate your sending us an analysis:                                        From:   K.  R.  Edwards Leaf  Tobacco  Co.                                                 Smithfield, N.c.                                                Canadian Flue-Cured'                           ...  \n",
              "1             /) ~ THE AMFRTGAN TOBACCO COMPANY AGENCY ACTION MEMO FROM: kr WJtä&CA DATE:         rJo MEDIA -?Z- OUT OF HOME ACCOUNT GROUP RESEARCH 7RAFFIC/ PRODUCTION ACCOUNTING              LCF&L R.Adlsr-AllX  L. Stern  M,Schan-CL G.Fous »X M. Hatz J.Rosen  /  Ha  R.Brown  Mu  ATCO_______________                                                                                                                               Ganunons - ATT  M.Schan-A-MC-TR-KL G.Fous  S.Pool J.Morris Moore Johnston Gesell  J . Adams onvfl-Y-P-T- J , Adamson-BD-R-L G.AugustX -M G.August S.Sunshine         C.Herder  ...  \n",
              "2                                                                                                                                                                                                                                                                                                                                                                                                                                                                                                                                                                                                    APR 121375 T. S. OSDENE  \n",
              "3     /SO                                                                        CadlcAddress row hatten  TO THE ENTIRE SALES ORGANIZATION  In vlew of the increase in the list price of P and HERBERT TAREYTON Cigarettes please make th indicated below on the following tax-paid Pric which you have in your possession:    N.Y.O. 344 PRICE LIST                                                                                          DISTRIBUTION  MAILED TO SECTiCNS                                                                                                                 r /oiST                   ...  \n",
              "4    t Vj                                                                                                                                                                                                                                                                                                                                                                ;' ! .i maatin lipton HERBERT M* WACHTELL LEONARD M* ROSEN THEODORE GEWERT2 BERNARD W* -NUS5BAUM BERTRAM M* KANTOR RICHARD D. KATCHER DOUGLAS S, LIEB RAPS KY LAURENCE D, CHERKIS STEVEN Mj BARNA CHARLES T. MEDCRRSCK CHAf M J, PORTO AN O PETE...  \n",
              "..                                                                                                                                                                                                                                                                                                                                                                                                                                                                                                                                                                                                                       ...  \n",
              "202                                                                                                                                                                                                                                                                                                                                                                                                                                                                                                                                                                                       RBCEWED viül 2 7 1992 DEPT. OFR&QA  \n",
              "203  LORILLARD, INC. Research Center, 420 English Street, P.O. Box 21688j Greensboro, North Carolina 27420-1688 October 31, 1986 Dr. R. M. David Microbiological Associates Inc. 5221 River Rd. Bethesda, MD 20816 Dear Ray: Enclosed are the signedi protocols for the Enzyme Induction Study with' LRC materials B200 , B201, B202 and B204 (Study Nbs. 1-7014.401 , 1-7015.401, 1-7016.401 and 1-7017.401, respectively). If you have any questions, please feel free to call. Thomas A. Vollmuth, Ph.D. Toxicologist, Life Sciences TAV/lp:1                                                                         ...  \n",
              "204                                                                                                                               (jfc            (/o^jexo-^cnyxaTi^'                                                                                                - 2 - Let's contlnue to win more consumers for LUCKY STRIKE and DUAL FILTER TAREYTON by capitallzing on our sponsorship through -   - an outstanding showing of the baseball material     - the building and maintaining of displays wherever possible            - Creative and imaginative promqtional efforts.  F. X. Whelan Executive Sales Manager  \n",
              "205                           MONTCLAIR Modern Cigarettes 1963 SPOT RADIO LEAF MARKETS                                   STATION & AMOUNT OR                                      15 Spots CITY & STATE                         Per  Week WInchester, Ky.                        WWKY Riehmond, Ky.                          WEKY Moultrlej Ga.                          WMGA Madison, Ind.                          WORX Bowling Green, Ky.                     WLBJ Glasgow, Ky.                           WKAY Greenville, N.C.                       WOOW Henderson, N.C.                        WHNC Kinston, N.C.  ...  \n",
              "206                                          ALBERT EINSTEIN COLLEGE OF MEDICINE 1 OF YESHIVA UNIVERS1TY                                 1300 MORRIS PARK AVENUE, BRONX,N.Y. 10461 :CABLE:E[NCOLLMED,N.Y. DEPARTMENT of GENETICS Dr. Vincent F. Lisanti The Council for Tobacco Research, ILS.A., Inc. 110 East 59th,Street New York, N.Y. 10022 Dear Dr. Lisanti:       I am writing to request.perjnission to purchase a Packaxd TRI-CARB 3Q0C microprocessor liquid seihtillation counter at a price of.$16,250 on my CTR grant 1126A. When I originally wrote this grant application, the cost of an equivalhnt scint...  \n",
              "\n",
              "[1031 rows x 2 columns]"
            ]
          },
          "metadata": {},
          "execution_count": 23
        }
      ]
    },
    {
      "cell_type": "code",
      "metadata": {
        "id": "vXjzXO3O4EnL"
      },
      "source": [
        "def get_features(r):\n",
        "\n",
        "  return r['text']\n",
        "\n",
        "def get_labels(r):\n",
        "\n",
        "  return r['class']"
      ],
      "execution_count": 24,
      "outputs": []
    },
    {
      "cell_type": "code",
      "metadata": {
        "id": "JBMXiyqi6-7z"
      },
      "source": [
        "from fastai.text.all import *"
      ],
      "execution_count": 25,
      "outputs": []
    },
    {
      "cell_type": "markdown",
      "metadata": {
        "id": "lwbrGQOdRF40"
      },
      "source": [
        "##Classification Model"
      ]
    },
    {
      "cell_type": "code",
      "metadata": {
        "id": "E0iAzqha7Rbb",
        "colab": {
          "base_uri": "https://localhost:8080/",
          "height": 288
        },
        "outputId": "5103cc9f-0201-44e0-9e03-5843300b67d2"
      },
      "source": [
        "tobacco_clas = DataBlock(\n",
        "    blocks=(TextBlock.from_df('text', seq_len=72), CategoryBlock),\n",
        "            get_x=get_features, \n",
        "            get_y=get_labels)\n",
        "\n",
        "dls = tobacco_clas.dataloaders(df_valid, bs=64)\n",
        "dls.show_batch(max_n=2)"
      ],
      "execution_count": 26,
      "outputs": [
        {
          "output_type": "display_data",
          "data": {
            "text/html": [
              ""
            ],
            "text/plain": [
              "<IPython.core.display.HTML object>"
            ]
          },
          "metadata": {}
        },
        {
          "output_type": "stream",
          "name": "stderr",
          "text": [
            "/usr/local/lib/python3.7/dist-packages/numpy/core/_asarray.py:83: VisibleDeprecationWarning: Creating an ndarray from ragged nested sequences (which is a list-or-tuple of lists-or-tuples-or ndarrays with different lengths or shapes) is deprecated. If you meant to do this, you must specify 'dtype=object' when creating the ndarray\n",
            "  return array(a, dtype, copy=False, order=order)\n"
          ]
        },
        {
          "output_type": "display_data",
          "data": {
            "text/html": [
              "<table border=\"1\" class=\"dataframe\">\n",
              "  <thead>\n",
              "    <tr style=\"text-align: right;\">\n",
              "      <th></th>\n",
              "      <th>text</th>\n",
              "      <th>category</th>\n",
              "    </tr>\n",
              "  </thead>\n",
              "  <tbody>\n",
              "    <tr>\n",
              "      <th>0</th>\n",
              "      <td>xxbos xxunk xxmaj federal xxmaj register / xxmaj xxunk . 45 . xxmaj no . 7 l xxmaj xxunk . xxmaj xxunk 10 , xxunk / xxmaj xxunk xxmaj xxunk 1 ml xxunk 1 xxmaj xxunk xxunk - xxunk xxup xxunk ) , « ! ( xxunk xxmaj xxunk » xxunk xxmaj xxunk xxunk xxmaj xxunk l c ta xxmaj xxunk # xxunk xxup xxunk « far .. . ti 10 xxmaj xxunk xxunk » - « or … … .. ■ . xxrep 3 - * * \" 3 w * . » xxunk . 1 0 « xxmaj xxunk . xxrep 4 - - xxmaj xxunk xxunk xxmaj mt * … … .. » 0 « xxunk … xxunk : f 01 ■ mt xxmaj xxunk i 04 xxunk - - xxmaj xxunk xxmaj al ! » * 5 04 xxunk xxup ta » xxunk xxrep 3 -</td>\n",
              "      <td>NextPage</td>\n",
              "    </tr>\n",
              "    <tr>\n",
              "      <th>1</th>\n",
              "      <td>xxbos ^ w ; ta or i xxunk : . * xxmaj cf xxmaj wachtell , xxmaj lipton , xxmaj rosen &amp; xxmaj katz q xxunk xxunk lipton xxup stephen xxup g * xxup xxunk 51 xxup xxunk 52 n d xxup street xxup pamela xxup xxunk xxup lara xxup xxunk xxup herbert xxup wachtell xxup seth xxup a. xxup kaplan xxup michael xxup s. xxup katz xxup xxunk xxup scott xxup l. xxup black xxup theodore xxup xxunk xxup barbara xxup xxunk xxup xxunk xxup l. xxup xxunk xxup james xxup xxunk , xxup xxunk . xxup xxunk xxup w. xxup xxunk xxup steven xxup a , xxup xxunk n xxup ew xxunk xxup xxunk xxup y. ( xxunk - xxunk xxup toni xxmaj pi . xxup xxunk xxup stephen xxup r- xxunk xxup richard xxup d- xxup xxunk xxup xxunk xxup pamela 5 . xxunk xxup steven xxup</td>\n",
              "      <td>FirstPage</td>\n",
              "    </tr>\n",
              "  </tbody>\n",
              "</table>"
            ],
            "text/plain": [
              "<IPython.core.display.HTML object>"
            ]
          },
          "metadata": {}
        }
      ]
    },
    {
      "cell_type": "code",
      "metadata": {
        "id": "gDHtouwbRJXt"
      },
      "source": [
        "learn = text_classifier_learner(dls, AWD_LSTM, drop_mult=0.5,metrics=[error_rate, accuracy, Perplexity()]).to_fp16()"
      ],
      "execution_count": 27,
      "outputs": []
    },
    {
      "cell_type": "code",
      "metadata": {
        "id": "2ISUAP5m5UUS",
        "colab": {
          "base_uri": "https://localhost:8080/",
          "height": 239
        },
        "outputId": "d1c8abb5-d422-47bd-cc70-a52de4a23d17"
      },
      "source": [
        "learn.fine_tune(4, 1e-2)"
      ],
      "execution_count": 28,
      "outputs": [
        {
          "output_type": "display_data",
          "data": {
            "text/html": [
              "<table border=\"1\" class=\"dataframe\">\n",
              "  <thead>\n",
              "    <tr style=\"text-align: left;\">\n",
              "      <th>epoch</th>\n",
              "      <th>train_loss</th>\n",
              "      <th>valid_loss</th>\n",
              "      <th>error_rate</th>\n",
              "      <th>accuracy</th>\n",
              "      <th>perplexity</th>\n",
              "      <th>time</th>\n",
              "    </tr>\n",
              "  </thead>\n",
              "  <tbody>\n",
              "    <tr>\n",
              "      <td>0</td>\n",
              "      <td>0.813115</td>\n",
              "      <td>0.628705</td>\n",
              "      <td>0.365854</td>\n",
              "      <td>0.634146</td>\n",
              "      <td>1.875181</td>\n",
              "      <td>00:01</td>\n",
              "    </tr>\n",
              "  </tbody>\n",
              "</table>"
            ],
            "text/plain": [
              "<IPython.core.display.HTML object>"
            ]
          },
          "metadata": {}
        },
        {
          "output_type": "display_data",
          "data": {
            "text/html": [
              "<table border=\"1\" class=\"dataframe\">\n",
              "  <thead>\n",
              "    <tr style=\"text-align: left;\">\n",
              "      <th>epoch</th>\n",
              "      <th>train_loss</th>\n",
              "      <th>valid_loss</th>\n",
              "      <th>error_rate</th>\n",
              "      <th>accuracy</th>\n",
              "      <th>perplexity</th>\n",
              "      <th>time</th>\n",
              "    </tr>\n",
              "  </thead>\n",
              "  <tbody>\n",
              "    <tr>\n",
              "      <td>0</td>\n",
              "      <td>0.624777</td>\n",
              "      <td>0.625321</td>\n",
              "      <td>0.341463</td>\n",
              "      <td>0.658537</td>\n",
              "      <td>1.868845</td>\n",
              "      <td>00:02</td>\n",
              "    </tr>\n",
              "    <tr>\n",
              "      <td>1</td>\n",
              "      <td>0.532926</td>\n",
              "      <td>0.635683</td>\n",
              "      <td>0.219512</td>\n",
              "      <td>0.780488</td>\n",
              "      <td>1.888311</td>\n",
              "      <td>00:02</td>\n",
              "    </tr>\n",
              "    <tr>\n",
              "      <td>2</td>\n",
              "      <td>0.463437</td>\n",
              "      <td>0.602043</td>\n",
              "      <td>0.268293</td>\n",
              "      <td>0.731707</td>\n",
              "      <td>1.825846</td>\n",
              "      <td>00:02</td>\n",
              "    </tr>\n",
              "    <tr>\n",
              "      <td>3</td>\n",
              "      <td>0.412434</td>\n",
              "      <td>0.596935</td>\n",
              "      <td>0.317073</td>\n",
              "      <td>0.682927</td>\n",
              "      <td>1.816542</td>\n",
              "      <td>00:02</td>\n",
              "    </tr>\n",
              "  </tbody>\n",
              "</table>"
            ],
            "text/plain": [
              "<IPython.core.display.HTML object>"
            ]
          },
          "metadata": {}
        }
      ]
    },
    {
      "cell_type": "code",
      "metadata": {
        "id": "fubvCTJR5aJJ",
        "colab": {
          "base_uri": "https://localhost:8080/",
          "height": 957
        },
        "outputId": "9698dc64-f6d2-4f7e-9952-8b6ad0aa34c5"
      },
      "source": [
        "learn.show_results()"
      ],
      "execution_count": 29,
      "outputs": [
        {
          "output_type": "display_data",
          "data": {
            "text/html": [
              ""
            ],
            "text/plain": [
              "<IPython.core.display.HTML object>"
            ]
          },
          "metadata": {}
        },
        {
          "output_type": "display_data",
          "data": {
            "text/html": [
              "<table border=\"1\" class=\"dataframe\">\n",
              "  <thead>\n",
              "    <tr style=\"text-align: right;\">\n",
              "      <th></th>\n",
              "      <th>text</th>\n",
              "      <th>category</th>\n",
              "      <th>category_</th>\n",
              "    </tr>\n",
              "  </thead>\n",
              "  <tbody>\n",
              "    <tr>\n",
              "      <th>0</th>\n",
              "      <td>xxbos xxunk xxmaj sudol , xxmaj marius xxunk - 68 - xxunk 9 . xxup supporting xxup data , xxup research xxup plan . xxmaj do not attach more than six additional pages ( xxunk ) . xxmaj please note that this page limit includes xxup xxunk and xxup xxunk . xxup background xxmaj the first identification of transforming genes xxunk from studies of xxup xxunk xxunk viruses ( xxunk ) . xxmaj these viral genes , called oncogenes ( v - onc ) , were later shown to be xxunk xxunk of normal cellular genes , called proto - oncogenes ( c - onc ) ( xxunk ) . xxmaj the common xxunk of all oncogenes is their ability to induce transformation of normal cells . xxmaj in xxunk , no common functional xxunk has been found for the proto - oncogenes identified to date , but it is</td>\n",
              "      <td>NextPage</td>\n",
              "      <td>NextPage</td>\n",
              "    </tr>\n",
              "    <tr>\n",
              "      <th>1</th>\n",
              "      <td>xxbos xxup the xxup american xxup tobacco xxup company xxup closed xxup xxunk xxup projects xxup report xxup as xxup of xxup september xxunk xxup year - to - date xxup capital xxup expense : xxunk xxup xxunk xxup job ' xxup xxunk \" xxup auth xxup prior xxup urren xxup quarter xxup prior : | ; xxup xxunk xxup quarter • : ^ : xxunk xxup location xxup job xxup xxunk : # ■ # ■ ■ xxup capital xxup xxunk xxup period xxup month xxup to xxup date xxup total xxup period xxup mönth xxup to xxup date xxup total xxup balance : xxup date xxup scope xxup reidsville xxunk xxup xxunk xxup unit xxunk xxunk xxunk xxup xxunk 0 0 xxunk 09 / 90 5 xxup r&amp;qa xxup balance xxup xxunk xxup top - xxunk xxunk 2 , xxrep 3 0 2 , xxrep 3 0 2</td>\n",
              "      <td>NextPage</td>\n",
              "      <td>FirstPage</td>\n",
              "    </tr>\n",
              "    <tr>\n",
              "      <th>2</th>\n",
              "      <td>xxbos xxmaj the xxmaj council xxmaj for xxmaj tobacco xxmaj research - xxup u.s . xxup a. , xxmaj inc . 900 xxup third xxup avenue xxup new xxup york , xxup ny 10022 ( 212 ) xxunk xxrep 3 8 5 xxup arthur xxup d. xxup eisenberg , ph.d . xxmaj associate xxmaj research xxmaj director j xxrep 3 l y 2 , 1991 xxmaj dr . xxmaj paul xxmaj xxunk xxmaj boston xxmaj university xxmaj hospital xxmaj xxunk xxunk 88 xxmaj east xxmaj xxunk xxmaj st . xxmaj boston , xxup xxunk xxunk xxmaj dear xxmaj dr . xxmaj xxunk : xxmaj thank you for your expression of interest in our program of research support . i am pleased to enclose a xxmaj statement describing policies of xxmaj the xxmaj council and a recent xxmaj annual xxmaj report that lists grants currently § xxunk . xxmaj our application</td>\n",
              "      <td>FirstPage</td>\n",
              "      <td>FirstPage</td>\n",
              "    </tr>\n",
              "    <tr>\n",
              "      <th>3</th>\n",
              "      <td>xxbos xxmaj august 5 , 1947 xxmaj mr .. xxup j. xxup c. xxmaj whitaker : v r ; • , xxmaj xxunk to xxmaj mr . xxmaj xxunk note of xxmaj august 5 regarding current prices of xxmaj com and xxmaj cane xxmaj xxunk , xxunk to our xxunk , xxmaj cane xxmaj sugar will cost us less to use than xxmaj com xxmaj sugar on xxmaj cigarette xxunk . xxmaj approximately 100 lbs . of xxmaj corn xxmaj sugar are xxunk replace 75 lbs . of xxmaj cane xxmaj sugar in xxunk tobacco with equal quality results . xxmaj comparison of cost : 100 lbs . xxmaj corn xxmaj sugar at $ 6.65 xxunk 75 lbs . xxmaj cane xxmaj sugar at 7 * 50 xxunk xxmaj difference in cost — — xxrep 16 - — xxunk xxmaj since we are using 500 , xxrep 3 0 lbs</td>\n",
              "      <td>FirstPage</td>\n",
              "      <td>FirstPage</td>\n",
              "    </tr>\n",
              "    <tr>\n",
              "      <th>4</th>\n",
              "      <td>xxbos xxmaj december 5 , 1979 xxup marketing xxup research xxup report # xxunk - xxunk ; xxmaj xxunk . z / xxunk xxmaj brand xxmaj management xxmaj xxunk ' ) xxunk ) xxmaj to : xxmaj messrs . xxup g. xxup h. xxmaj long xxup g. xxup b. xxmaj whitaker xxup c. xxup g. xxmaj xxunk xxup d. xxup w. xxmaj xxunk xxup a. xxup h. xxmaj xxunk xxup j. xxup b. xxmaj stuart xxup n. xxup w. xxmaj xxunk xxup c. xxup c. xxmaj xxunk ( xxunk $ xxrep 3 * xxmaj re : xxup salem xxmaj king xxmaj competitive xxmaj product xxmaj test xxmaj in xxmaj june of this year , xxup salem xxmaj king was xxunk tested against xxmaj kool xxmaj king and xxmaj newport xxmaj king . xxmaj results indicate that xxup salem xxmaj king did meet the established action xxmaj standards of : xxmaj</td>\n",
              "      <td>FirstPage</td>\n",
              "      <td>FirstPage</td>\n",
              "    </tr>\n",
              "    <tr>\n",
              "      <th>5</th>\n",
              "      <td>xxbos xxup xxunk 18 * 86 } xxunk xxup from b / ' u xxup xxunk xxup xxunk xxunk . xxunk ? xxunk xxunk xxunk 18 , 1992 xxmaj xxunk xxmaj fax 203 / xxunk - xxunk xxmaj na . xxmaj xxunk xxup b. xxmaj xxunk xxmaj the xxmaj xxunk xxmaj tobacco xxmaj company 6 xxunk xxmaj xxunk xxup v , xxup o. xxup bo * 10380 xxmaj xxunk , xxup ct xxunk xxmaj bear xxmaj na » xxmaj xxunk : xxmaj further to our xxunk xxunk of xxunk , please find xxunk xxunk of the xxunk of the um xxup xxunk and xxup pall xxup xxunk xxunk which are the subject * or the xxunk forwarded to xxmaj xxunk « xxmaj xlemann on xxmaj xxunk 16 . xxmaj xxunk xxunk xxunk xxunk from the attached labels , the \" tax xxunk \" xxmaj xxunk xxunk for export product is</td>\n",
              "      <td>FirstPage</td>\n",
              "      <td>FirstPage</td>\n",
              "    </tr>\n",
              "    <tr>\n",
              "      <th>6</th>\n",
              "      <td>xxbos xxmaj xxunk xxmaj xxunk . xxmaj fon xxmaj xxunk xxunk - xxunk . xxunk xxup to xxup tue xxup tobacco xxup xxunk ' xxunk xxup committee xxmaj g : ia xxunk xxunk xxup xxunk xxunk \\ . xxup x. xxup y. 10017 xxmaj xxunk xxunk , xxmaj xxunk xxmaj dr . xxup t. xxup c. xxmaj tso , xxmaj plant xxmaj xxunk xxmaj toba xxrep 3 c xxmaj quality xxmaj xxunk s t xxunk i or . s xxmaj xxunk ? xxunk xxmaj division xxmaj xxunk xxmaj research xxmaj service xxup u. xxup s. xxmaj department of xxmaj agriculture xxmaj xxunk , xxmaj xxunk xxmaj dear xxmaj dr . xxmaj tso : * i. xxmaj ta have received your letter xxunk xxunk 30 , xxunk , xxunk \" xxunk - state health xxmaj xxunk research xxunk on . tobacco \" . xxmaj ir . particular you . xxunk the</td>\n",
              "      <td>FirstPage</td>\n",
              "      <td>FirstPage</td>\n",
              "    </tr>\n",
              "    <tr>\n",
              "      <th>7</th>\n",
              "      <td>xxbos xxmaj department of the xxmaj xxunk and xxmaj air xxmaj force 31 xxmaj march 1987 2- xxup price xxup per xxup carton xxup of xxunk xxup tax xxup paid xxup tax xxup free xxup merit xxup soft xxup pack 6.985 4.80 xxup merit xxup king xxup size xxup box xxup regular 6.985 4.80 xxup merit xxup menthol xxup soft xxup pack 6.985 4.80 xxup merit 100 ’s xxup regular xxup soft xxup pack 7.279 5.00 xxup merit 100 's xxup menthol xxup soft xxup pack 7.279 5.00 xxup parliament xxup lights xxup soft xxup pack 6.985 4.80 xxup parliament xxup lights xxup flip xxup top xxup box 6.985 4.80 xxup parliament xxup lights 100 's xxup soft xxup pack 7.279 5.00 xxup philip xxup morris xxup regular 6.985 4.80 xxup philip xxup morris xxup xxunk 7.279 5.00 xxup players xxup xxunk xxup xxunk xxunk xxunk xxup players xxup king</td>\n",
              "      <td>NextPage</td>\n",
              "      <td>FirstPage</td>\n",
              "    </tr>\n",
              "    <tr>\n",
              "      <th>8</th>\n",
              "      <td>xxbos # • xxmaj xxunk xxunk xxup u.s . manufacturers to xxunk to domestic performance xxmaj standards xxunk by the xxup xxunk in their international xxunk . xxmaj if the xxup xxunk xxunk or limited nicotine , or limited tar , the xxunk or limit would also apply to export products — again without regard to what foreign xxunk could xxunk . • xxmaj xxunk of an xxunk tax of $ 1.00 per 1 , xxrep 3 0 cigarettes on all xxunk and foreign sales . xxmaj for xxunk , any one of our international xxmaj company ’s xxmaj xxunk products xxunk and sold only in xxmaj xxunk would be subject to this tax . xxmaj the xxunk international provisions would xxunk destroy our international xxmaj company ’s ability to xxunk abroad with foreign manufacturers not subject to these xxunk and required payments . xxmaj we are xxunk that the</td>\n",
              "      <td>NextPage</td>\n",
              "      <td>FirstPage</td>\n",
              "    </tr>\n",
              "  </tbody>\n",
              "</table>"
            ],
            "text/plain": [
              "<IPython.core.display.HTML object>"
            ]
          },
          "metadata": {}
        }
      ]
    },
    {
      "cell_type": "code",
      "metadata": {
        "colab": {
          "base_uri": "https://localhost:8080/"
        },
        "id": "Nd_us-_kmma1",
        "outputId": "32a52a61-d317-40c2-ba2a-d24575e5b6e0"
      },
      "source": [
        "learn.save('dls_lm.pkl')"
      ],
      "execution_count": 30,
      "outputs": [
        {
          "output_type": "execute_result",
          "data": {
            "text/plain": [
              "Path('models/dls_lm.pkl.pth')"
            ]
          },
          "metadata": {},
          "execution_count": 30
        }
      ]
    },
    {
      "cell_type": "code",
      "metadata": {
        "id": "s3t9TDDVUARf"
      },
      "source": [
        "#load model\n",
        "learn = learn.load('dls_lm.pkl')"
      ],
      "execution_count": 31,
      "outputs": []
    },
    {
      "cell_type": "code",
      "metadata": {
        "id": "7sj48ZB4fL4l",
        "colab": {
          "base_uri": "https://localhost:8080/",
          "height": 363
        },
        "outputId": "38851365-7e81-4d40-fd97-0740df02ee77"
      },
      "source": [
        "learn.unfreeze()\n",
        "learn.fit_one_cycle(10, 2e-3)"
      ],
      "execution_count": 32,
      "outputs": [
        {
          "output_type": "display_data",
          "data": {
            "text/html": [
              "<table border=\"1\" class=\"dataframe\">\n",
              "  <thead>\n",
              "    <tr style=\"text-align: left;\">\n",
              "      <th>epoch</th>\n",
              "      <th>train_loss</th>\n",
              "      <th>valid_loss</th>\n",
              "      <th>error_rate</th>\n",
              "      <th>accuracy</th>\n",
              "      <th>perplexity</th>\n",
              "      <th>time</th>\n",
              "    </tr>\n",
              "  </thead>\n",
              "  <tbody>\n",
              "    <tr>\n",
              "      <td>0</td>\n",
              "      <td>0.280180</td>\n",
              "      <td>0.589215</td>\n",
              "      <td>0.317073</td>\n",
              "      <td>0.682927</td>\n",
              "      <td>1.802573</td>\n",
              "      <td>00:02</td>\n",
              "    </tr>\n",
              "    <tr>\n",
              "      <td>1</td>\n",
              "      <td>0.253524</td>\n",
              "      <td>0.610180</td>\n",
              "      <td>0.341463</td>\n",
              "      <td>0.658537</td>\n",
              "      <td>1.840763</td>\n",
              "      <td>00:02</td>\n",
              "    </tr>\n",
              "    <tr>\n",
              "      <td>2</td>\n",
              "      <td>0.228005</td>\n",
              "      <td>0.535024</td>\n",
              "      <td>0.317073</td>\n",
              "      <td>0.682927</td>\n",
              "      <td>1.707489</td>\n",
              "      <td>00:02</td>\n",
              "    </tr>\n",
              "    <tr>\n",
              "      <td>3</td>\n",
              "      <td>0.212011</td>\n",
              "      <td>0.524303</td>\n",
              "      <td>0.243902</td>\n",
              "      <td>0.756098</td>\n",
              "      <td>1.689281</td>\n",
              "      <td>00:02</td>\n",
              "    </tr>\n",
              "    <tr>\n",
              "      <td>4</td>\n",
              "      <td>0.189640</td>\n",
              "      <td>0.463552</td>\n",
              "      <td>0.195122</td>\n",
              "      <td>0.804878</td>\n",
              "      <td>1.589711</td>\n",
              "      <td>00:02</td>\n",
              "    </tr>\n",
              "    <tr>\n",
              "      <td>5</td>\n",
              "      <td>0.177006</td>\n",
              "      <td>0.433811</td>\n",
              "      <td>0.219512</td>\n",
              "      <td>0.780488</td>\n",
              "      <td>1.543127</td>\n",
              "      <td>00:02</td>\n",
              "    </tr>\n",
              "    <tr>\n",
              "      <td>6</td>\n",
              "      <td>0.159796</td>\n",
              "      <td>0.430412</td>\n",
              "      <td>0.195122</td>\n",
              "      <td>0.804878</td>\n",
              "      <td>1.537892</td>\n",
              "      <td>00:02</td>\n",
              "    </tr>\n",
              "    <tr>\n",
              "      <td>7</td>\n",
              "      <td>0.144813</td>\n",
              "      <td>0.416485</td>\n",
              "      <td>0.195122</td>\n",
              "      <td>0.804878</td>\n",
              "      <td>1.516621</td>\n",
              "      <td>00:02</td>\n",
              "    </tr>\n",
              "    <tr>\n",
              "      <td>8</td>\n",
              "      <td>0.132758</td>\n",
              "      <td>0.397323</td>\n",
              "      <td>0.121951</td>\n",
              "      <td>0.878049</td>\n",
              "      <td>1.487837</td>\n",
              "      <td>00:02</td>\n",
              "    </tr>\n",
              "    <tr>\n",
              "      <td>9</td>\n",
              "      <td>0.122027</td>\n",
              "      <td>0.382763</td>\n",
              "      <td>0.121951</td>\n",
              "      <td>0.878049</td>\n",
              "      <td>1.466331</td>\n",
              "      <td>00:02</td>\n",
              "    </tr>\n",
              "  </tbody>\n",
              "</table>"
            ],
            "text/plain": [
              "<IPython.core.display.HTML object>"
            ]
          },
          "metadata": {}
        }
      ]
    },
    {
      "cell_type": "code",
      "metadata": {
        "id": "W3vdzIyifL4l",
        "colab": {
          "base_uri": "https://localhost:8080/",
          "height": 300
        },
        "outputId": "a3f7ffd1-4e84-4305-f1b9-3f4900c5065c"
      },
      "source": [
        "learn.unfreeze()\n",
        "learn.lr_find()"
      ],
      "execution_count": 33,
      "outputs": [
        {
          "output_type": "display_data",
          "data": {
            "text/html": [
              ""
            ],
            "text/plain": [
              "<IPython.core.display.HTML object>"
            ]
          },
          "metadata": {}
        },
        {
          "output_type": "execute_result",
          "data": {
            "text/plain": [
              "SuggestedLRs(valley=9.120108734350652e-05)"
            ]
          },
          "metadata": {},
          "execution_count": 33
        },
        {
          "output_type": "display_data",
          "data": {
            "image/png": "[encoded data removed]",
            "text/plain": [
              "<Figure size 432x288 with 1 Axes>"
            ]
          },
          "metadata": {
            "needs_background": "light"
          }
        }
      ]
    },
    {
      "cell_type": "code",
      "metadata": {
        "id": "VhsBR4qKfL4t",
        "colab": {
          "base_uri": "https://localhost:8080/",
          "height": 254
        },
        "outputId": "32836ff8-0618-4776-a616-053212e2e840"
      },
      "source": [
        "tobacco_clas = DataBlock(\n",
        "    blocks=(TextBlock.from_df('text', seq_len=72), CategoryBlock),\n",
        "            get_x=get_features, \n",
        "            get_y=get_labels)\n",
        "\n",
        "dl = tobacco_clas.dataloaders(df_train_val, bs=64)\n",
        "dl.show_batch(max_n=2)"
      ],
      "execution_count": 34,
      "outputs": [
        {
          "output_type": "display_data",
          "data": {
            "text/html": [
              ""
            ],
            "text/plain": [
              "<IPython.core.display.HTML object>"
            ]
          },
          "metadata": {}
        },
        {
          "output_type": "stream",
          "name": "stderr",
          "text": [
            "/usr/local/lib/python3.7/dist-packages/numpy/core/_asarray.py:83: VisibleDeprecationWarning: Creating an ndarray from ragged nested sequences (which is a list-or-tuple of lists-or-tuples-or ndarrays with different lengths or shapes) is deprecated. If you meant to do this, you must specify 'dtype=object' when creating the ndarray\n",
            "  return array(a, dtype, copy=False, order=order)\n"
          ]
        },
        {
          "output_type": "display_data",
          "data": {
            "text/html": [
              "<table border=\"1\" class=\"dataframe\">\n",
              "  <thead>\n",
              "    <tr style=\"text-align: right;\">\n",
              "      <th></th>\n",
              "      <th>text</th>\n",
              "      <th>category</th>\n",
              "    </tr>\n",
              "  </thead>\n",
              "  <tbody>\n",
              "    <tr>\n",
              "      <th>0</th>\n",
              "      <td>xxbos xxup u ) ö tn t ; ( fi a « o ri o o u xxmaj lj o ü - ] ■ xxup vd ( ji rl xxunk &lt; u o p cj o i m i y 4j o ■ h f i xxmaj hl &lt; ; &lt; h o 4 &gt; si tu o m xxup xxunk , | &gt; xxunk fl tj * xxmaj xxunk o o n fi xxup xxunk ri tj o fl to ö » * * o to * fi « 1 &lt; l &gt; -h &gt; « 3 e &gt; p xxunk rh ft 4j xxmaj fh m | &gt; o / ■ &gt; 0 xxunk rj 0 &lt; 9 , ri xxup hj &lt; i &gt; o xxup cd &lt; il it . 5 xxunk xxup cj xxmaj pi fh j • tn d xxmaj vi * ■ .</td>\n",
              "      <td>NextPage</td>\n",
              "    </tr>\n",
              "    <tr>\n",
              "      <th>1</th>\n",
              "      <td>xxbos xxunk xxmaj federal xxmaj register / xxmaj vol . 45 . xxmaj no . 7 l xxmaj xxunk . xxmaj xxunk 10 , xxunk / xxmaj xxunk xxmaj tb 1 ml xxunk 1 xxmaj xxunk xxunk - xxunk xxup xxunk ) , « ! ( xxunk xxmaj xxunk » sf xxmaj xxunk xxunk xxmaj xxunk l c ta xxmaj xxunk # tm xxup mh « far .. . ti 10 xxmaj xxunk xxunk » - « or … … .. ■ . xxrep 3 - * * \" 3 w * . » xxunk . 1 0 « xxmaj xxunk . xxrep 4 - - xxmaj xxunk xxunk xxmaj mt * … … .. » 0 « xxunk … xxunk : f 01 ■ mt xxmaj xxunk i 04 xxunk - - xxmaj xxunk xxmaj al ! » * 5 04 xxunk xxup ta » xxunk xxrep 3 -</td>\n",
              "      <td>NextPage</td>\n",
              "    </tr>\n",
              "  </tbody>\n",
              "</table>"
            ],
            "text/plain": [
              "<IPython.core.display.HTML object>"
            ]
          },
          "metadata": {}
        }
      ]
    },
    {
      "cell_type": "code",
      "metadata": {
        "id": "E6CkOkBRfL4t"
      },
      "source": [
        "learn_c = text_classifier_learner(dl, AWD_LSTM, drop_mult=0.5,metrics=[error_rate, accuracy, Perplexity()]).to_fp16()"
      ],
      "execution_count": 35,
      "outputs": []
    },
    {
      "cell_type": "code",
      "metadata": {
        "id": "OpOHClT4fL4t",
        "colab": {
          "base_uri": "https://localhost:8080/",
          "height": 904
        },
        "outputId": "c2588f2b-eb97-40b0-8e96-4a2444a2ad60"
      },
      "source": [
        "learn_c.show_results()"
      ],
      "execution_count": 36,
      "outputs": [
        {
          "output_type": "display_data",
          "data": {
            "text/html": [
              ""
            ],
            "text/plain": [
              "<IPython.core.display.HTML object>"
            ]
          },
          "metadata": {}
        },
        {
          "output_type": "display_data",
          "data": {
            "text/html": [
              "<table border=\"1\" class=\"dataframe\">\n",
              "  <thead>\n",
              "    <tr style=\"text-align: right;\">\n",
              "      <th></th>\n",
              "      <th>text</th>\n",
              "      <th>category</th>\n",
              "      <th>category_</th>\n",
              "    </tr>\n",
              "  </thead>\n",
              "  <tbody>\n",
              "    <tr>\n",
              "      <th>0</th>\n",
              "      <td>xxbos i xxunk xxunk xxup herbert xxup m. xxup wachtell xxup theodore xxup gewertz xxup bernard xxup w. xxup nussbaum xxup richard xxup o. xxup xxunk xxup douglas xxup s. xxup xxunk xxup steven xxup m * xxup bar xxup na xxup chaim xxup j * xxup fortgang xxup peter xxup c * xxup canellos xxup michael xxup w * xxunk xxup allan xxup a. xxup martin xxup barry xxup a. xxunk xxup lawrence xxup b- xxup xxunk xxup robert xxup b. xxup mazur xxup paul xxunk , xxmaj jfl . xxup peter xxup c. xxup hein xxup harold 5 . xxup xxunk xxup david xxup m * xxup einhorn xxup xxunk xxup b , xxup forrest xxup meyer xxup g. xxup koplow xxup theodore xxup n * xxup xxunk xxup edward xxup d * xxup xxunk xxup richard xxup d. xxunk xxup daniel xxup a. xxup neff xxup eric</td>\n",
              "      <td>FirstPage</td>\n",
              "      <td>NextPage</td>\n",
              "    </tr>\n",
              "    <tr>\n",
              "      <th>1</th>\n",
              "      <td>xxbos xxunk xxmaj sudol , xxmaj marius 129 - 68 - 8626 3 . xxmaj xxunk , xxup xxunk . , xxmaj harvey , xxup r. , xxmaj xxunk , xxup xxunk . , xxmaj xxunk , xxup k. , xxmaj xxunk , xxup t. , xxmaj toyoshima , xxup t. , xxmaj smith , xxup xxunk . ( 1988 ) xxup xxunk . xxup j. xxunk - xxunk 4 . xxmaj xxunk , xxup s.a . ( 1983 ) xxmaj nature xxunk - xxunk 6 . xxmaj xxunk , xxup j. , xxmaj neil , xxup xxunk . , and xxmaj vogt , xxup xxunk . ( 1981 ) xxmaj xxunk . xxmaj natl . xxmaj acad . xxmaj sei . xxup usa xxunk - xxunk 6 . xxmaj hanafusa , xxup h. ( 1986 ) xxmaj in xxmaj oncogenes and xxmaj growth xxmaj control , xxunk . xxup</td>\n",
              "      <td>NextPage</td>\n",
              "      <td>FirstPage</td>\n",
              "    </tr>\n",
              "    <tr>\n",
              "      <th>2</th>\n",
              "      <td>xxbos j • xxunk rightfax xxmaj server to : ronald xxmaj xxunk 5 / 98 xxunk : xxup page 3 / 4 # xxunk xxmaj wachtell . xxmaj lipton , xxmaj rosen &amp; xxmaj katz xxmaj martin xxunk xxup herbert xxup m , xxup wachtell xxmaj theodore xxunk xxup xxunk xxup w. xxup nu xxrep 3 ö xxup aum xxup richard □ . xxup xxunk xxunk xxup s. xxunk xxunk xxup m * xxup xxunk xxup charles xxup t. xxunk , xxup chaim xxup j » xxunk peter c. xxunk * xxup michael xxup w. xxup schwarte xxup allan xxup a. xxup martin xxup harry xxmaj ah xxunk xxup lawrence xxmaj el . xxunk xxup robert xxup b- xxup mazur xxup pall xxunk * xxup jr . xxup xxunk xxup c. xxup hein xxup harold xxup s. xxunk xxup david xxmaj mr xxup einhorn xxup kenneth « . xxup forrest</td>\n",
              "      <td>FirstPage</td>\n",
              "      <td>NextPage</td>\n",
              "    </tr>\n",
              "    <tr>\n",
              "      <th>3</th>\n",
              "      <td>xxbos xxup the am ; xxup can xxup tobacco xxup company xxup domestic xxup returned xxup goods xxup analysis xxup january 1989 xxup thru xxup september 1990 ( xxunk 's ) xxup xxunk xxup return xxup xxunk t xxunk 45 h h m « xxunk xxup xxunk xxunk « ■ mm , sm xxunk ■ - - ■ xxunk xxup mt xxup xxunk xxunk : ' xxunk xxunk xxrep 3 t xxunk xxunk : xxunk « : xxunk xxrep 3 0 2 : xxunk xxrep 3 0 xxunk xxup xxunk xxup jan 196 « ( $ xxunk ) $ xxunk ( $ xxunk ) * xxunk xxunk % ( * xxunk ) ( 626 ) * 1 ( * « 6 ) $ 64 $ 8 * 46 « 17 « xxup feb ( $ xxunk ) $ xxunk ( xxunk ) * xxunk £ xxunk % ( $ xxunk</td>\n",
              "      <td>NextPage</td>\n",
              "      <td>NextPage</td>\n",
              "    </tr>\n",
              "    <tr>\n",
              "      <th>4</th>\n",
              "      <td>xxbos ’ \" from xxunk xxunk xxunk m xxup xxunk xxup theodore xxup xxunk &gt; xxunk w xxup nu s xxmaj xxunk xxup au h xxup him / xxmaj xxunk xxmaj cr « xxunk xxunk s. xxunk xxunk xxmaj mi xxup xxunk * xxup charles xxmaj ti xxup xxunk * xxup xxunk j xxup fortgang xxunk xxup c. xxup xxunk xxunk xxup w. xxup schwarte allan a » xxmaj martin « xxunk xxunk « xxunk 9 * xxup xxunk xxup xxunk 9 * xxup xxunk « aul xxup xxunk . xxup jr » xxunk fit xxup xxunk xxup xxunk xxup s &lt; xxunk xxup david xxup m. xxunk xxup xxunk xxup d. xxunk xxup xxunk xxup g. « xxunk xxup theodore xxup w. xxunk * xxup xxunk o. xxunk xxup richard xxup o- xxunk xxunk xxmaj ar « cf « xxunk xxup m , xxup roth xxup xxunk xxup a</td>\n",
              "      <td>FirstPage</td>\n",
              "      <td>FirstPage</td>\n",
              "    </tr>\n",
              "    <tr>\n",
              "      <th>5</th>\n",
              "      <td>xxbos # xxmaj wachtell , xxmaj lipton , xxmaj rosen &amp; xxmaj katz xxup martin xxup lipton xxup herbert xxup m. xxup wachtell xxup theodore xxup xxunk * xxup xxunk xxup w- xxup nussbaum xxup richard xxup o- xxup katcher xxup douglas 5- xxup xxunk xxup steven xxup m * xxup barna xxup chaim xxup j- xxup fortgang xxup peter xxup c. xxup canellos xxup michael xxup w * xxunk xxup allan xxup a. xxup martin xxup barry xxup a. xxup bryer xxup lawrence ß . xxup peoowitz xxup robert xxup b * xxup mazur xxup paul xxup xxunk , jfl xxup peter xxup c- xxup hein xxup harold $ . xxup xxunk xxup david xxup m- xxup einhorn xxup kenneth xxup b _ xxup forrest xxup meyer xxmaj gt xxup xxunk xxup theodore xxup n , xxup xxunk xxup edward xxup d- xxup xxunk xxup richard xxup d- xxup</td>\n",
              "      <td>FirstPage</td>\n",
              "      <td>NextPage</td>\n",
              "    </tr>\n",
              "    <tr>\n",
              "      <th>6</th>\n",
              "      <td>xxbos xxmaj federal xxmaj register / xxmaj vol . 45 , xxmaj no . 7 i xxmaj xxunk . ( xxunk 10 . 1900 / xxmaj xxunk xxunk xxunk xxup xxunk xxmaj tbe xxmaj xxunk xxmaj trade xxmaj xxunk xxunk hu xxunk the xxmaj tat “ ( dry xxunk matter ) and total xxunk { xxunk a * nicotine ) content of 170 » xxunk * of xxunk xxunk * . xxmaj the xxunk « xxunk tbe xxmaj cambridge xxunk method with tbe xxunk xxunk forth in the xxmaj xxunk xxunk dated xxmaj july xxunk . 32 xxup fr xxmaj xxunk . xxmaj the xxunk * an xxunk in alphabetical order with tar xxunk rounded to the » xxunk whole xxunk and nicotine xxunk rounded to the xxunk xxunk of a xxunk . xxmaj xxunk » ne xxmaj xxunk » ’ xxunk ot xxmaj xxunk xxmaj xxunk - xxunk )</td>\n",
              "      <td>NextPage</td>\n",
              "      <td>NextPage</td>\n",
              "    </tr>\n",
              "    <tr>\n",
              "      <th>7</th>\n",
              "      <td>xxbos t xxmaj vj ; ' ! .i xxunk lipton xxup herbert xxup m * xxup wachtell xxup leonard xxup m * xxup rosen xxup theodore xxup xxunk xxup bernard xxup w * xxunk xxup xxunk xxup m * xxup xxunk xxup richard xxup d. xxup katcher xxup douglas xxup s , xxup xxunk xxup xxunk xxup ky xxup laurence xxup d , xxup xxunk xxup steven xxmaj mj xxup barna xxup charles xxup t. xxup xxunk xxunk m xxup j , xxup xxunk xxup an o xxup peter xxup c * xxup canellos xxup michael xxup w * xxup xxunk xxup allan xxup a- xxup martin xxup barry xxup a. xxup bayer xxup lawrence xxup s- xxunk xxup robert 8 * xxup mazur xxup paul xxunk , xxup jr * xxup peter xxup c * h xxup ei xxup n _ xxup harold xxup s- xxunk xxup david xxup</td>\n",
              "      <td>FirstPage</td>\n",
              "      <td>FirstPage</td>\n",
              "    </tr>\n",
              "    <tr>\n",
              "      <th>8</th>\n",
              "      <td>xxbos xxup xxunk xxup by ' xxunk - 93 ; xxunk ; xxup wachtell xxup xxunk ; # 3 xxunk xxmaj wachtell , xxmaj xxunk , xxmaj rosem &amp; xxmaj xxunk » xxunk xxup h- xxunk xxunk : &lt; xxunk xxunk xxrep 3 * xxunk * * xxunk fc , * * xxunk * xxmaj xxunk « * - xxrep 3 f xxunk o * * » * xxunk xxunk xxup c. xxunk » xxunk * fe xxunk * * * xxunk * * * * xxunk xxunk . » » xxunk xxunk * xxunk xxup b , xxup xxunk i m * * xxunk c. * * £ * « xxunk xxmaj xxunk * * ' xxup sm » xxup m. xxunk « xxunk ft . xxunk ft « * « * xxunk xxunk * u xxunk xxup xxunk &amp; xxmaj of * xxunk xxunk &amp; . xxunk «</td>\n",
              "      <td>FirstPage</td>\n",
              "      <td>NextPage</td>\n",
              "    </tr>\n",
              "  </tbody>\n",
              "</table>"
            ],
            "text/plain": [
              "<IPython.core.display.HTML object>"
            ]
          },
          "metadata": {}
        }
      ]
    },
    {
      "cell_type": "code",
      "metadata": {
        "scrolled": true,
        "id": "w3sCN4gdfL4u",
        "colab": {
          "base_uri": "https://localhost:8080/",
          "height": 300
        },
        "outputId": "e21db606-ce27-4f2e-a79a-facf96ec640c"
      },
      "source": [
        "learn_c.freeze()\n",
        "learn_c.lr_find()"
      ],
      "execution_count": 37,
      "outputs": [
        {
          "output_type": "display_data",
          "data": {
            "text/html": [
              ""
            ],
            "text/plain": [
              "<IPython.core.display.HTML object>"
            ]
          },
          "metadata": {}
        },
        {
          "output_type": "execute_result",
          "data": {
            "text/plain": [
              "SuggestedLRs(valley=0.002511886414140463)"
            ]
          },
          "metadata": {},
          "execution_count": 37
        },
        {
          "output_type": "display_data",
          "data": {
            "image/png": "[encoded data removed]",
            "text/plain": [
              "<Figure size 432x288 with 1 Axes>"
            ]
          },
          "metadata": {
            "needs_background": "light"
          }
        }
      ]
    },
    {
      "cell_type": "code",
      "metadata": {
        "id": "joL8dpcVfL4u",
        "colab": {
          "base_uri": "https://localhost:8080/",
          "height": 363
        },
        "outputId": "99301a9c-b670-4493-83f8-16ee498a9dd5"
      },
      "source": [
        "learn_c.fit_one_cycle(10, 2e-2)"
      ],
      "execution_count": 38,
      "outputs": [
        {
          "output_type": "display_data",
          "data": {
            "text/html": [
              "<table border=\"1\" class=\"dataframe\">\n",
              "  <thead>\n",
              "    <tr style=\"text-align: left;\">\n",
              "      <th>epoch</th>\n",
              "      <th>train_loss</th>\n",
              "      <th>valid_loss</th>\n",
              "      <th>error_rate</th>\n",
              "      <th>accuracy</th>\n",
              "      <th>perplexity</th>\n",
              "      <th>time</th>\n",
              "    </tr>\n",
              "  </thead>\n",
              "  <tbody>\n",
              "    <tr>\n",
              "      <td>0</td>\n",
              "      <td>0.728843</td>\n",
              "      <td>0.569483</td>\n",
              "      <td>0.300971</td>\n",
              "      <td>0.699029</td>\n",
              "      <td>1.767352</td>\n",
              "      <td>00:03</td>\n",
              "    </tr>\n",
              "    <tr>\n",
              "      <td>1</td>\n",
              "      <td>0.620995</td>\n",
              "      <td>0.499038</td>\n",
              "      <td>0.247573</td>\n",
              "      <td>0.752427</td>\n",
              "      <td>1.647136</td>\n",
              "      <td>00:03</td>\n",
              "    </tr>\n",
              "    <tr>\n",
              "      <td>2</td>\n",
              "      <td>0.564362</td>\n",
              "      <td>0.409823</td>\n",
              "      <td>0.189320</td>\n",
              "      <td>0.810680</td>\n",
              "      <td>1.506552</td>\n",
              "      <td>00:03</td>\n",
              "    </tr>\n",
              "    <tr>\n",
              "      <td>3</td>\n",
              "      <td>0.540404</td>\n",
              "      <td>0.422535</td>\n",
              "      <td>0.140777</td>\n",
              "      <td>0.859223</td>\n",
              "      <td>1.525824</td>\n",
              "      <td>00:03</td>\n",
              "    </tr>\n",
              "    <tr>\n",
              "      <td>4</td>\n",
              "      <td>0.504441</td>\n",
              "      <td>0.334826</td>\n",
              "      <td>0.150485</td>\n",
              "      <td>0.849515</td>\n",
              "      <td>1.397697</td>\n",
              "      <td>00:03</td>\n",
              "    </tr>\n",
              "    <tr>\n",
              "      <td>5</td>\n",
              "      <td>0.463826</td>\n",
              "      <td>0.378937</td>\n",
              "      <td>0.145631</td>\n",
              "      <td>0.854369</td>\n",
              "      <td>1.460730</td>\n",
              "      <td>00:03</td>\n",
              "    </tr>\n",
              "    <tr>\n",
              "      <td>6</td>\n",
              "      <td>0.434426</td>\n",
              "      <td>0.416442</td>\n",
              "      <td>0.150485</td>\n",
              "      <td>0.849515</td>\n",
              "      <td>1.516556</td>\n",
              "      <td>00:03</td>\n",
              "    </tr>\n",
              "    <tr>\n",
              "      <td>7</td>\n",
              "      <td>0.407876</td>\n",
              "      <td>0.390463</td>\n",
              "      <td>0.135922</td>\n",
              "      <td>0.864078</td>\n",
              "      <td>1.477665</td>\n",
              "      <td>00:03</td>\n",
              "    </tr>\n",
              "    <tr>\n",
              "      <td>8</td>\n",
              "      <td>0.383734</td>\n",
              "      <td>0.376493</td>\n",
              "      <td>0.131068</td>\n",
              "      <td>0.868932</td>\n",
              "      <td>1.457165</td>\n",
              "      <td>00:03</td>\n",
              "    </tr>\n",
              "    <tr>\n",
              "      <td>9</td>\n",
              "      <td>0.362975</td>\n",
              "      <td>0.375292</td>\n",
              "      <td>0.126214</td>\n",
              "      <td>0.873786</td>\n",
              "      <td>1.455416</td>\n",
              "      <td>00:03</td>\n",
              "    </tr>\n",
              "  </tbody>\n",
              "</table>"
            ],
            "text/plain": [
              "<IPython.core.display.HTML object>"
            ]
          },
          "metadata": {}
        }
      ]
    },
    {
      "cell_type": "code",
      "metadata": {
        "id": "4dconMb4fL4u",
        "colab": {
          "base_uri": "https://localhost:8080/"
        },
        "outputId": "a3d346ad-694d-46e4-9f5e-e6d9ca51aa0c"
      },
      "source": [
        "learn_c.save(\"clf_dl\")"
      ],
      "execution_count": 39,
      "outputs": [
        {
          "output_type": "execute_result",
          "data": {
            "text/plain": [
              "Path('models/clf_dl.pth')"
            ]
          },
          "metadata": {},
          "execution_count": 39
        }
      ]
    },
    {
      "cell_type": "code",
      "metadata": {
        "id": "wNV_C3lafL4u",
        "colab": {
          "base_uri": "https://localhost:8080/",
          "height": 363
        },
        "outputId": "85e78d52-4df2-4028-94a9-ef4d6f16dc69"
      },
      "source": [
        "learn_c.freeze_to(-2)\n",
        "learn_c.fit_one_cycle(10, slice(1e-2/(2.6**4),1e-2))"
      ],
      "execution_count": 40,
      "outputs": [
        {
          "output_type": "display_data",
          "data": {
            "text/html": [
              "<table border=\"1\" class=\"dataframe\">\n",
              "  <thead>\n",
              "    <tr style=\"text-align: left;\">\n",
              "      <th>epoch</th>\n",
              "      <th>train_loss</th>\n",
              "      <th>valid_loss</th>\n",
              "      <th>error_rate</th>\n",
              "      <th>accuracy</th>\n",
              "      <th>perplexity</th>\n",
              "      <th>time</th>\n",
              "    </tr>\n",
              "  </thead>\n",
              "  <tbody>\n",
              "    <tr>\n",
              "      <td>0</td>\n",
              "      <td>0.293301</td>\n",
              "      <td>0.394086</td>\n",
              "      <td>0.145631</td>\n",
              "      <td>0.854369</td>\n",
              "      <td>1.483029</td>\n",
              "      <td>00:04</td>\n",
              "    </tr>\n",
              "    <tr>\n",
              "      <td>1</td>\n",
              "      <td>0.326836</td>\n",
              "      <td>0.662413</td>\n",
              "      <td>0.174757</td>\n",
              "      <td>0.825243</td>\n",
              "      <td>1.939467</td>\n",
              "      <td>00:04</td>\n",
              "    </tr>\n",
              "    <tr>\n",
              "      <td>2</td>\n",
              "      <td>0.351919</td>\n",
              "      <td>0.393761</td>\n",
              "      <td>0.121359</td>\n",
              "      <td>0.878641</td>\n",
              "      <td>1.482545</td>\n",
              "      <td>00:04</td>\n",
              "    </tr>\n",
              "    <tr>\n",
              "      <td>3</td>\n",
              "      <td>0.342213</td>\n",
              "      <td>0.399375</td>\n",
              "      <td>0.106796</td>\n",
              "      <td>0.893204</td>\n",
              "      <td>1.490893</td>\n",
              "      <td>00:04</td>\n",
              "    </tr>\n",
              "    <tr>\n",
              "      <td>4</td>\n",
              "      <td>0.331649</td>\n",
              "      <td>0.407633</td>\n",
              "      <td>0.126214</td>\n",
              "      <td>0.873786</td>\n",
              "      <td>1.503255</td>\n",
              "      <td>00:04</td>\n",
              "    </tr>\n",
              "    <tr>\n",
              "      <td>5</td>\n",
              "      <td>0.305591</td>\n",
              "      <td>0.386628</td>\n",
              "      <td>0.106796</td>\n",
              "      <td>0.893204</td>\n",
              "      <td>1.472009</td>\n",
              "      <td>00:04</td>\n",
              "    </tr>\n",
              "    <tr>\n",
              "      <td>6</td>\n",
              "      <td>0.277312</td>\n",
              "      <td>0.393748</td>\n",
              "      <td>0.106796</td>\n",
              "      <td>0.893204</td>\n",
              "      <td>1.482527</td>\n",
              "      <td>00:04</td>\n",
              "    </tr>\n",
              "    <tr>\n",
              "      <td>7</td>\n",
              "      <td>0.250055</td>\n",
              "      <td>0.416149</td>\n",
              "      <td>0.106796</td>\n",
              "      <td>0.893204</td>\n",
              "      <td>1.516112</td>\n",
              "      <td>00:04</td>\n",
              "    </tr>\n",
              "    <tr>\n",
              "      <td>8</td>\n",
              "      <td>0.226511</td>\n",
              "      <td>0.426741</td>\n",
              "      <td>0.106796</td>\n",
              "      <td>0.893204</td>\n",
              "      <td>1.532255</td>\n",
              "      <td>00:04</td>\n",
              "    </tr>\n",
              "    <tr>\n",
              "      <td>9</td>\n",
              "      <td>0.205768</td>\n",
              "      <td>0.412753</td>\n",
              "      <td>0.116505</td>\n",
              "      <td>0.883495</td>\n",
              "      <td>1.510972</td>\n",
              "      <td>00:04</td>\n",
              "    </tr>\n",
              "  </tbody>\n",
              "</table>"
            ],
            "text/plain": [
              "<IPython.core.display.HTML object>"
            ]
          },
          "metadata": {}
        }
      ]
    },
    {
      "cell_type": "code",
      "metadata": {
        "id": "l4dsrT57fL4y",
        "colab": {
          "base_uri": "https://localhost:8080/"
        },
        "outputId": "71e20c9a-9652-45e9-bdac-c189097084f5"
      },
      "source": [
        "learn_c.save(\"clf_dl\")"
      ],
      "execution_count": 41,
      "outputs": [
        {
          "output_type": "execute_result",
          "data": {
            "text/plain": [
              "Path('models/clf_dl.pth')"
            ]
          },
          "metadata": {},
          "execution_count": 41
        }
      ]
    },
    {
      "cell_type": "code",
      "metadata": {
        "id": "FDZgYfXGfL4z",
        "colab": {
          "base_uri": "https://localhost:8080/",
          "height": 363
        },
        "outputId": "2aeb3137-3e4b-4db8-96fc-f94efd9c7ff4"
      },
      "source": [
        "learn_c.unfreeze()\n",
        "learn_c.fit_one_cycle(10, slice(1e-2/10/(2.6**4),1e-2/10))"
      ],
      "execution_count": 42,
      "outputs": [
        {
          "output_type": "display_data",
          "data": {
            "text/html": [
              "<table border=\"1\" class=\"dataframe\">\n",
              "  <thead>\n",
              "    <tr style=\"text-align: left;\">\n",
              "      <th>epoch</th>\n",
              "      <th>train_loss</th>\n",
              "      <th>valid_loss</th>\n",
              "      <th>error_rate</th>\n",
              "      <th>accuracy</th>\n",
              "      <th>perplexity</th>\n",
              "      <th>time</th>\n",
              "    </tr>\n",
              "  </thead>\n",
              "  <tbody>\n",
              "    <tr>\n",
              "      <td>0</td>\n",
              "      <td>0.129655</td>\n",
              "      <td>0.420099</td>\n",
              "      <td>0.111650</td>\n",
              "      <td>0.888350</td>\n",
              "      <td>1.522113</td>\n",
              "      <td>00:07</td>\n",
              "    </tr>\n",
              "    <tr>\n",
              "      <td>1</td>\n",
              "      <td>0.141547</td>\n",
              "      <td>0.404803</td>\n",
              "      <td>0.101942</td>\n",
              "      <td>0.898058</td>\n",
              "      <td>1.499006</td>\n",
              "      <td>00:07</td>\n",
              "    </tr>\n",
              "    <tr>\n",
              "      <td>2</td>\n",
              "      <td>0.139776</td>\n",
              "      <td>0.413209</td>\n",
              "      <td>0.106796</td>\n",
              "      <td>0.893204</td>\n",
              "      <td>1.511661</td>\n",
              "      <td>00:07</td>\n",
              "    </tr>\n",
              "    <tr>\n",
              "      <td>3</td>\n",
              "      <td>0.133142</td>\n",
              "      <td>0.397670</td>\n",
              "      <td>0.097087</td>\n",
              "      <td>0.902913</td>\n",
              "      <td>1.488353</td>\n",
              "      <td>00:07</td>\n",
              "    </tr>\n",
              "    <tr>\n",
              "      <td>4</td>\n",
              "      <td>0.125046</td>\n",
              "      <td>0.422220</td>\n",
              "      <td>0.121359</td>\n",
              "      <td>0.878641</td>\n",
              "      <td>1.525344</td>\n",
              "      <td>00:07</td>\n",
              "    </tr>\n",
              "    <tr>\n",
              "      <td>5</td>\n",
              "      <td>0.121993</td>\n",
              "      <td>0.423324</td>\n",
              "      <td>0.087379</td>\n",
              "      <td>0.912621</td>\n",
              "      <td>1.527028</td>\n",
              "      <td>00:07</td>\n",
              "    </tr>\n",
              "    <tr>\n",
              "      <td>6</td>\n",
              "      <td>0.115945</td>\n",
              "      <td>0.406020</td>\n",
              "      <td>0.106796</td>\n",
              "      <td>0.893204</td>\n",
              "      <td>1.500833</td>\n",
              "      <td>00:08</td>\n",
              "    </tr>\n",
              "    <tr>\n",
              "      <td>7</td>\n",
              "      <td>0.111463</td>\n",
              "      <td>0.415258</td>\n",
              "      <td>0.101942</td>\n",
              "      <td>0.898058</td>\n",
              "      <td>1.514761</td>\n",
              "      <td>00:08</td>\n",
              "    </tr>\n",
              "    <tr>\n",
              "      <td>8</td>\n",
              "      <td>0.107124</td>\n",
              "      <td>0.413769</td>\n",
              "      <td>0.101942</td>\n",
              "      <td>0.898058</td>\n",
              "      <td>1.512507</td>\n",
              "      <td>00:07</td>\n",
              "    </tr>\n",
              "    <tr>\n",
              "      <td>9</td>\n",
              "      <td>0.100001</td>\n",
              "      <td>0.423001</td>\n",
              "      <td>0.101942</td>\n",
              "      <td>0.898058</td>\n",
              "      <td>1.526536</td>\n",
              "      <td>00:07</td>\n",
              "    </tr>\n",
              "  </tbody>\n",
              "</table>"
            ],
            "text/plain": [
              "<IPython.core.display.HTML object>"
            ]
          },
          "metadata": {}
        }
      ]
    },
    {
      "cell_type": "code",
      "metadata": {
        "id": "IK09g2HYfL4z",
        "colab": {
          "base_uri": "https://localhost:8080/"
        },
        "outputId": "cb0949ba-1c51-4cc1-eaf2-e16d8cb1bb32"
      },
      "source": [
        "learn_c.save(\"clf_dl\")"
      ],
      "execution_count": 43,
      "outputs": [
        {
          "output_type": "execute_result",
          "data": {
            "text/plain": [
              "Path('models/clf_dl.pth')"
            ]
          },
          "metadata": {},
          "execution_count": 43
        }
      ]
    }
  ]
}